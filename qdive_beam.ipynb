{
 "cells": [
  {
   "cell_type": "code",
   "execution_count": null,
   "metadata": {},
   "outputs": [],
   "source": [
    "import os\n",
    "import apache_beam as beam\n",
    "from apache_beam.dataframe.transform import DataframeTransform\n",
    "DATA_DIR_PATH = os.path.join(os.getcwd(), \"data\")\n",
    "FILE_NAME = \"title.tsv\"\n"
   ]
  },
  {
   "cell_type": "code",
   "execution_count": null,
   "metadata": {},
   "outputs": [],
   "source": [
    "pipeline = beam.Pipeline()"
   ]
  },
  {
   "cell_type": "code",
   "execution_count": null,
   "metadata": {},
   "outputs": [],
   "source": [
    "outputs = (\n",
    "    pipeline\n",
    "    | 'Read data' >> beam.dataframe.io.read_csv(os.path.join(DATA_DIR_PATH, FILE_NAME))\n",
    "    | \n",
    ")"
   ]
  }
 ],
 "metadata": {
  "language_info": {
   "name": "python"
  }
 },
 "nbformat": 4,
 "nbformat_minor": 2
}
