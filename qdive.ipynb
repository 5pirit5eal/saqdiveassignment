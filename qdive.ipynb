{
 "cells": [
  {
   "cell_type": "code",
   "execution_count": 7,
   "metadata": {},
   "outputs": [],
   "source": [
    "import os\n",
    "from azure.identity import DefaultAzureCredential\n",
    "from azure.storage.blob import BlobServiceClient\n",
    "\n",
    "# Set up download directory\n",
    "DATA_DIR_PATH = os.path.join(os.getcwd(), \"data\")\n",
    "if not os.path.exists(DATA_DIR_PATH):\n",
    "    os.makedirs(DATA_DIR_PATH)"
   ]
  },
  {
   "cell_type": "code",
   "execution_count": 8,
   "metadata": {},
   "outputs": [],
   "source": [
    "def get_blob_service_client_account_key():\n",
    "    account_url = \"https://saqdiveassignments.blob.core.windows.net/\"\n",
    "    # credential = DefaultAzureCredential()\n",
    "\n",
    "    # Create the BlobServiceClient object\n",
    "    blob_service_client = BlobServiceClient(account_url, credential=None)\n",
    "\n",
    "    return blob_service_client\n",
    "\n",
    "\n",
    "# def download_blobs_to_dir(blob_service_client: BlobServiceClient, container_name, file_name):\n",
    "#     container_client = blob_service_client.get_container_client(container=container_name)\n",
    "#     for blob in container_client.list_blobs():\n",
    "#         with open(file=os.path.join(DATA_DIR_PATH, file_name), mode=\"wb\") as sample_blob:\n",
    "#             download_stream = blob.download_blob()\n",
    "#             sample_blob.write(download_stream.readall())"
   ]
  },
  {
   "cell_type": "code",
   "execution_count": 9,
   "metadata": {},
   "outputs": [
    {
     "name": "stdout",
     "output_type": "stream",
     "text": [
      "cast.tsv\n",
      "crew.tsv\n",
      "names.tsv\n",
      "ratings.tsv\n",
      "titles.tsv\n"
     ]
    }
   ],
   "source": [
    "service = get_blob_service_client_account_key()\n",
    "container_client = service.get_container_client(container=\"dataengineerfiles\")\n",
    "for blob in container_client.list_blob_names():\n",
    "    print(blob)"
   ]
  },
  {
   "cell_type": "code",
   "execution_count": null,
   "metadata": {},
   "outputs": [],
   "source": []
  },
  {
   "cell_type": "code",
   "execution_count": null,
   "metadata": {},
   "outputs": [],
   "source": [
    "\n"
   ]
  },
  {
   "cell_type": "code",
   "execution_count": null,
   "metadata": {},
   "outputs": [],
   "source": []
  },
  {
   "cell_type": "code",
   "execution_count": null,
   "metadata": {},
   "outputs": [],
   "source": []
  }
 ],
 "metadata": {
  "kernelspec": {
   "display_name": ".venv",
   "language": "python",
   "name": "python3"
  },
  "language_info": {
   "codemirror_mode": {
    "name": "ipython",
    "version": 3
   },
   "file_extension": ".py",
   "mimetype": "text/x-python",
   "name": "python",
   "nbconvert_exporter": "python",
   "pygments_lexer": "ipython3",
   "version": "3.11.2"
  }
 },
 "nbformat": 4,
 "nbformat_minor": 2
}
