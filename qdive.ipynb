{
 "cells": [
  {
   "cell_type": "markdown",
   "metadata": {},
   "source": [
    "# Interview assignement - Data Engineering & Architecture\n",
    "## Scenario\n",
    "A fictional analytics company wants to examine the relationships between films, actors, \n",
    "directors and ratings to gain insights into the film industry. The goal is to identify patterns \n",
    "and correlations that could influence a movie's success. Your task as a Data Engineer & \n",
    "Architect is to collect the data, combine different data sources and transform the data into a \n",
    "structure suitable for analysis. Finally, you will design a query that returns data in a format \n",
    "that the company's data scientists can work with.\n",
    "\n",
    "## Task\n",
    "Your job is to combine and transform the data in a way that makes it easy to perform analysis \n",
    "on the relationships between movie ratings, actor and director success, and other \n",
    "measurable success factors. Data scientists want to be able to run queries that return a \n",
    "structure for a given movie or person with a side-by-side comparison of movie ratings, \n",
    "participation in successful projects, and other relevant metrics.\n",
    "To accomplish this, you should follow these steps:\n",
    "1. Programmatically download all the data.\n",
    "2. Ingest the data into a database or query engine of your choice (conditions and guidelines below).\n",
    "3. Combine and transform the data into a structure suitable for efficient queries.\n",
    "4. Design a query that returns data in the desired format for a given movie or person and specific metrics.\n",
    "\n",
    "**An important condition is that you can use any programming language and any open-source\n",
    "or cloud tool.**"
   ]
  },
  {
   "cell_type": "markdown",
   "metadata": {},
   "source": [
    "## Trade-offs\n",
    "#### Simplicity: \n",
    "_Focus on clear and efficient solutions. You should be able to present your approach in a simple and comprehensible way._\n",
    "\n",
    "I chose jupyter notebook and a dataframe package (polars/pandas) for simplicity and presentability. This is not scalable to Big Data and only visualizes the initial data. The setup should suffice for prototyping, but will not suffice in the long run.\n",
    "\n",
    "#### Performance: \n",
    "_Minimize processing time through efficient data manipulation and analysis._\n",
    "\n",
    "Polars is implemented in Rust and is highly efficient when handling large dataframes. The dataframes provide high-level functions that make analysis and manipulation easy. The main bottleneck is the necessity of having access to the dataframes on the system. This will no longer work when database size grows.\n",
    "\n",
    "#### Scalability: \n",
    "_Take into account that the solution must be scalable to deal with the continuous increase in the amount of data. Describe your approaches in the presentation._\n",
    "\n",
    "To be able to scale to more data i implemented the data processing in Apache Beam. The pipeline can be run on any Apache Spark cluster (such as Googles Dataflow) and will ingest the data directly from the azure storage, transform the data and feed it back into Google BigQuery. BigQuery allows for Data Scientists to access the data anywhere, analyse and visualize data, apply Machine Learning via AutoML, and scale with increasing data.\n",
    "\n",
    "#### Comprehensibility:\n",
    "_Make sure your code is well structured and commented. Other colleagues should also be able to easily and directly adopt the code later and develop it further._\n",
    "\n",
    "This jupyter notebook will contain all necessary documentation to be able to understand and reproduce the results. For simplicity and time-saving, no unit tests were written. In a professional environment, i would heavily recommend writing tests, but a this is an interview, i will focus on the implementation."
   ]
  },
  {
   "cell_type": "markdown",
   "metadata": {},
   "source": [
    "## Data\n",
    "_The data in focus can be accessed on the Internet via the following link to our Azure Blob Storage:_\n",
    "```\n",
    "STORAGEACCOUNTURL= \"https://saqdiveassignments.blob.core.windows.net\"\n",
    "CONTAINERNAME= \"dataengineerfiles\"\n",
    "```\n",
    "As the first step, i access the data provided to me on azure storage. The data is has open access (requiring no credentials) and will be stored in this repository."
   ]
  },
  {
   "cell_type": "code",
   "execution_count": 1,
   "metadata": {},
   "outputs": [],
   "source": [
    "import os\n",
    "import polars as pl\n",
    "import pandas as pd\n",
    "from tqdm import tqdm\n",
    "from ydata_profiling import ProfileReport\n",
    "from azure.storage.blob import BlobServiceClient\n",
    "\n",
    "# Set up download directory\n",
    "ACCOUNT_URL = \"https://saqdiveassignments.blob.core.windows.net/\"\n",
    "CONTAINER_NAME = \"dataengineerfiles\"\n",
    "DATA_DIR_PATH = os.path.join(os.getcwd(), \"data\") # Change this as desired\n",
    "if not os.path.exists(DATA_DIR_PATH):\n",
    "    os.makedirs(DATA_DIR_PATH)"
   ]
  },
  {
   "cell_type": "markdown",
   "metadata": {},
   "source": [
    "#### 1. Programmatically download the data\n",
    "To be able to download the data, a connection to the individual blobs needs to be established. This follows the Azure Object Model.\n",
    "\n",
    "![title](https://learn.microsoft.com/en-us/azure/storage/blobs/media/storage-blobs-introduction/blob1.png)\n",
    "\n",
    "This requires a connection to the storage account, then the container, and finally each blob that needs to be downloaded.\n",
    "For easier adaptation to future changes, i kept the container name as a parameter."
   ]
  },
  {
   "cell_type": "code",
   "execution_count": 2,
   "metadata": {},
   "outputs": [],
   "source": [
    "class AzureBlobOperations:\n",
    "    \"\"\"Helper class to group Azure Blob Storage operations.\n",
    "    \n",
    "    Connects to Azure Blob Storage and provides methods to download blobs to local storage.\n",
    "    \"\"\"\n",
    "    def __init__(self, storage_url: str, credentials=None) -> None:\n",
    "        self.blob_service_client = BlobServiceClient(storage_url, credential=credentials)\n",
    "\n",
    "    def download_blob_to_file(self, container_name: str, blob_name: str) -> None:\n",
    "        \"\"\"Downloads a single blob from Azure Storage to a local file.\n",
    "        \n",
    "        Args:\n",
    "            container_name: Name of the storage container containing the blob.\n",
    "            blob_name: Name of the blob to download.\n",
    "        \"\"\"\n",
    "        blob_client = self.blob_service_client.get_blob_client(container=container_name, blob=blob_name)\n",
    "        with open(file=os.path.join(DATA_DIR_PATH, blob_name), mode=\"wb\") as sample_blob:\n",
    "            download_stream = blob_client.download_blob()\n",
    "            for chunk in download_stream.chunks():\n",
    "                sample_blob.write(chunk)\n",
    "\n",
    "    def download_all_blobs_to_dir(self, container_name: str) -> None:\n",
    "        \"\"\"Downloads all blobs contained in a container on Azure Storage.\n",
    "        \n",
    "        Based on the download blob function from Azure Documentation.\n",
    "\n",
    "        Args:\n",
    "            container_name: Name of the storage container containing the blob.\n",
    "        \"\"\"\n",
    "        container_client = self.blob_service_client.get_container_client(container=container_name)\n",
    "        for blob_name in tqdm(list(container_client.list_blob_names()), desc=\"Downloading blobs from storage: \"):\n",
    "            blob_client = container_client.get_blob_client(blob=blob_name)\n",
    "            with open(file=os.path.join(DATA_DIR_PATH, blob_name), mode=\"wb\") as sample_blob:\n",
    "                download_stream = blob_client.download_blob()\n",
    "                for chunk in download_stream.chunks():\n",
    "                    sample_blob.write(chunk)\n",
    "    \n",
    "    def list_blob_names_and_sizes(self, container_name: str) -> None:\n",
    "        \"\"\"Lists all blobs in a container and their size in bytes.\n",
    "        \n",
    "        Args:\n",
    "            container_name: Name of the storage container containing the blob.\n",
    "        \"\"\"\n",
    "        container_client = self.blob_service_client.get_container_client(container=container_name)\n",
    "        for blob in container_client.list_blobs():\n",
    "            print(f\"Blob name: {blob.name}, Size: {blob.size} bytes\")  "
   ]
  },
  {
   "cell_type": "code",
   "execution_count": 3,
   "metadata": {},
   "outputs": [
    {
     "name": "stdout",
     "output_type": "stream",
     "text": [
      "Blob name: cast.tsv, Size: 2668643291 bytes\n",
      "Blob name: crew.tsv, Size: 349084795 bytes\n",
      "Blob name: names.tsv, Size: 805608596 bytes\n",
      "Blob name: ratings.tsv, Size: 24365246 bytes\n",
      "Blob name: titles.tsv, Size: 907670788 bytes\n"
     ]
    }
   ],
   "source": [
    "azure_op = AzureBlobOperations(storage_url=ACCOUNT_URL, credentials=None)\n",
    "azure_op.list_blob_names_and_sizes(container_name=CONTAINER_NAME)"
   ]
  },
  {
   "cell_type": "code",
   "execution_count": 4,
   "metadata": {},
   "outputs": [],
   "source": [
    "# skip if already downloaded\n",
    "if os.listdir(DATA_DIR_PATH) == []:\n",
    "    azure_op.download_all_blobs_to_dir(CONTAINER_NAME)\n",
    "# azure_op.download_blob_to_file(CONTAINER_NAME, \"ratings.tsv\")"
   ]
  },
  {
   "cell_type": "markdown",
   "metadata": {},
   "source": [
    "#### 2. Ingest the data into a database or query engine of your choice\n",
    "I chose polars for this presentation, but other options could be e.g. MySQL, PostgreSQL, Azure Data Factory or Google BigQuery."
   ]
  },
  {
   "cell_type": "code",
   "execution_count": 5,
   "metadata": {},
   "outputs": [],
   "source": [
    "# Load as polars/pandas dataframe\n",
    "null_values = [\"\\\\N\"]\n",
    "\n",
    "df_cast = pl.read_csv(os.path.join(DATA_DIR_PATH, \"cast.tsv\"), separator=\"\\t\", null_values=null_values)\n",
    "df_ratings = pl.read_csv(os.path.join(DATA_DIR_PATH, \"ratings.tsv\"), separator=\"\\t\", null_values=null_values)\n",
    "df_titles = pl.read_csv(os.path.join(DATA_DIR_PATH, \"titles.tsv\"), separator=\"\\t\", null_values=null_values, ignore_errors=True)\n",
    "df_names = pl.read_csv(os.path.join(DATA_DIR_PATH, \"names.tsv\"), separator=\"\\t\", null_values=null_values)\n",
    "df_crew = pl.read_csv(os.path.join(DATA_DIR_PATH, \"crew.tsv\"), separator=\"\\t\", null_values=null_values)"
   ]
  },
  {
   "cell_type": "markdown",
   "metadata": {},
   "source": [
    "#### 3. Combine and transform the data into a structure suitable for efficient queries.\n",
    "To be able to scale the data engineering steps, it is necessary to identify what steps are required. To do this the following needs to be investigated:\n",
    "\n",
    "##### 3.1. Visualize raw data"
   ]
  },
  {
   "cell_type": "code",
   "execution_count": 6,
   "metadata": {},
   "outputs": [],
   "source": [
    "%config InteractiveShell.ast_node_interactivity = 'all'\n",
    "pd.set_option(\"display.max_colwidth\", 1000)"
   ]
  },
  {
   "cell_type": "code",
   "execution_count": 7,
   "metadata": {},
   "outputs": [
    {
     "data": {
      "text/html": [
       "<div><style>\n",
       ".dataframe > thead > tr,\n",
       ".dataframe > tbody > tr {\n",
       "  text-align: right;\n",
       "  white-space: pre-wrap;\n",
       "}\n",
       "</style>\n",
       "<small>shape: (9, 7)</small><table border=\"1\" class=\"dataframe\"><thead><tr><th>statistic</th><th>tconst</th><th>ordering</th><th>nconst</th><th>category</th><th>job</th><th>characters</th></tr><tr><td>str</td><td>str</td><td>f64</td><td>str</td><td>str</td><td>str</td><td>str</td></tr></thead><tbody><tr><td>&quot;count&quot;</td><td>&quot;59627213&quot;</td><td>5.9627213e7</td><td>&quot;59627213&quot;</td><td>&quot;59627213&quot;</td><td>&quot;9800948&quot;</td><td>&quot;28692745&quot;</td></tr><tr><td>&quot;null_count&quot;</td><td>&quot;0&quot;</td><td>0.0</td><td>&quot;0&quot;</td><td>&quot;0&quot;</td><td>&quot;49826265&quot;</td><td>&quot;30934468&quot;</td></tr><tr><td>&quot;mean&quot;</td><td>null</td><td>4.616037</td><td>null</td><td>null</td><td>null</td><td>null</td></tr><tr><td>&quot;std&quot;</td><td>null</td><td>2.788623</td><td>null</td><td>null</td><td>null</td><td>null</td></tr><tr><td>&quot;min&quot;</td><td>&quot;tt0000001&quot;</td><td>1.0</td><td>&quot;nm0000001&quot;</td><td>&quot;actor&quot;</td><td>&quot;&#x27;An Ode To Com…</td><td>&quot;[&quot;!CF&quot;,&quot;CF&quot;,&quot;S…</td></tr><tr><td>&quot;25%&quot;</td><td>null</td><td>2.0</td><td>null</td><td>null</td><td>null</td><td>null</td></tr><tr><td>&quot;50%&quot;</td><td>null</td><td>4.0</td><td>null</td><td>null</td><td>null</td><td>null</td></tr><tr><td>&quot;75%&quot;</td><td>null</td><td>7.0</td><td>null</td><td>null</td><td>null</td><td>null</td></tr><tr><td>&quot;max&quot;</td><td>&quot;tt9916880&quot;</td><td>10.0</td><td>&quot;nm9993718&quot;</td><td>&quot;writer&quot;</td><td>&quot;écrivain&quot;</td><td>&quot;[&quot;üzletember&quot;]…</td></tr></tbody></table></div>"
      ],
      "text/plain": [
       "shape: (9, 7)\n",
       "┌────────────┬───────────┬─────────────┬───────────┬──────────┬──────────────────┬─────────────────┐\n",
       "│ statistic  ┆ tconst    ┆ ordering    ┆ nconst    ┆ category ┆ job              ┆ characters      │\n",
       "│ ---        ┆ ---       ┆ ---         ┆ ---       ┆ ---      ┆ ---              ┆ ---             │\n",
       "│ str        ┆ str       ┆ f64         ┆ str       ┆ str      ┆ str              ┆ str             │\n",
       "╞════════════╪═══════════╪═════════════╪═══════════╪══════════╪══════════════════╪═════════════════╡\n",
       "│ count      ┆ 59627213  ┆ 5.9627213e7 ┆ 59627213  ┆ 59627213 ┆ 9800948          ┆ 28692745        │\n",
       "│ null_count ┆ 0         ┆ 0.0         ┆ 0         ┆ 0        ┆ 49826265         ┆ 30934468        │\n",
       "│ mean       ┆ null      ┆ 4.616037    ┆ null      ┆ null     ┆ null             ┆ null            │\n",
       "│ std        ┆ null      ┆ 2.788623    ┆ null      ┆ null     ┆ null             ┆ null            │\n",
       "│ min        ┆ tt0000001 ┆ 1.0         ┆ nm0000001 ┆ actor    ┆ 'An Ode To       ┆ [\"!CF\",\"CF\",\"Se │\n",
       "│            ┆           ┆             ┆           ┆          ┆ Comedy' opener   ┆ lf\"]            │\n",
       "│ 25%        ┆ null      ┆ 2.0         ┆ null      ┆ null     ┆ null             ┆ null            │\n",
       "│ 50%        ┆ null      ┆ 4.0         ┆ null      ┆ null     ┆ null             ┆ null            │\n",
       "│ 75%        ┆ null      ┆ 7.0         ┆ null      ┆ null     ┆ null             ┆ null            │\n",
       "│ max        ┆ tt9916880 ┆ 10.0        ┆ nm9993718 ┆ writer   ┆ écrivain         ┆ [\"üzletember\"]  │\n",
       "└────────────┴───────────┴─────────────┴───────────┴──────────┴──────────────────┴─────────────────┘"
      ]
     },
     "execution_count": 7,
     "metadata": {},
     "output_type": "execute_result"
    },
    {
     "data": {
      "text/html": [
       "<div><style>\n",
       ".dataframe > thead > tr,\n",
       ".dataframe > tbody > tr {\n",
       "  text-align: right;\n",
       "  white-space: pre-wrap;\n",
       "}\n",
       "</style>\n",
       "<small>shape: (9, 4)</small><table border=\"1\" class=\"dataframe\"><thead><tr><th>statistic</th><th>tconst</th><th>averageRating</th><th>numVotes</th></tr><tr><td>str</td><td>str</td><td>f64</td><td>f64</td></tr></thead><tbody><tr><td>&quot;count&quot;</td><td>&quot;1404167&quot;</td><td>1.404167e6</td><td>1.404167e6</td></tr><tr><td>&quot;null_count&quot;</td><td>&quot;0&quot;</td><td>0.0</td><td>0.0</td></tr><tr><td>&quot;mean&quot;</td><td>null</td><td>6.955961</td><td>1036.665241</td></tr><tr><td>&quot;std&quot;</td><td>null</td><td>1.38564</td><td>17652.512372</td></tr><tr><td>&quot;min&quot;</td><td>&quot;tt0000001&quot;</td><td>1.0</td><td>5.0</td></tr><tr><td>&quot;25%&quot;</td><td>null</td><td>6.2</td><td>11.0</td></tr><tr><td>&quot;50%&quot;</td><td>null</td><td>7.1</td><td>26.0</td></tr><tr><td>&quot;75%&quot;</td><td>null</td><td>7.9</td><td>101.0</td></tr><tr><td>&quot;max&quot;</td><td>&quot;tt9916880&quot;</td><td>10.0</td><td>2.858671e6</td></tr></tbody></table></div>"
      ],
      "text/plain": [
       "shape: (9, 4)\n",
       "┌────────────┬───────────┬───────────────┬──────────────┐\n",
       "│ statistic  ┆ tconst    ┆ averageRating ┆ numVotes     │\n",
       "│ ---        ┆ ---       ┆ ---           ┆ ---          │\n",
       "│ str        ┆ str       ┆ f64           ┆ f64          │\n",
       "╞════════════╪═══════════╪═══════════════╪══════════════╡\n",
       "│ count      ┆ 1404167   ┆ 1.404167e6    ┆ 1.404167e6   │\n",
       "│ null_count ┆ 0         ┆ 0.0           ┆ 0.0          │\n",
       "│ mean       ┆ null      ┆ 6.955961      ┆ 1036.665241  │\n",
       "│ std        ┆ null      ┆ 1.38564       ┆ 17652.512372 │\n",
       "│ min        ┆ tt0000001 ┆ 1.0           ┆ 5.0          │\n",
       "│ 25%        ┆ null      ┆ 6.2           ┆ 11.0         │\n",
       "│ 50%        ┆ null      ┆ 7.1           ┆ 26.0         │\n",
       "│ 75%        ┆ null      ┆ 7.9           ┆ 101.0        │\n",
       "│ max        ┆ tt9916880 ┆ 10.0          ┆ 2.858671e6   │\n",
       "└────────────┴───────────┴───────────────┴──────────────┘"
      ]
     },
     "execution_count": 7,
     "metadata": {},
     "output_type": "execute_result"
    },
    {
     "data": {
      "text/html": [
       "<div><style>\n",
       ".dataframe > thead > tr,\n",
       ".dataframe > tbody > tr {\n",
       "  text-align: right;\n",
       "  white-space: pre-wrap;\n",
       "}\n",
       "</style>\n",
       "<small>shape: (9, 10)</small><table border=\"1\" class=\"dataframe\"><thead><tr><th>statistic</th><th>tconst</th><th>titleType</th><th>primaryTitle</th><th>originalTitle</th><th>isAdult</th><th>startYear</th><th>endYear</th><th>runtimeMinutes</th><th>genres</th></tr><tr><td>str</td><td>str</td><td>str</td><td>str</td><td>str</td><td>f64</td><td>f64</td><td>str</td><td>f64</td><td>str</td></tr></thead><tbody><tr><td>&quot;count&quot;</td><td>&quot;10565899&quot;</td><td>&quot;10565899&quot;</td><td>&quot;10565899&quot;</td><td>&quot;10565899&quot;</td><td>1.0565898e7</td><td>9.169791e6</td><td>&quot;119028&quot;</td><td>3.249656e6</td><td>&quot;10095773&quot;</td></tr><tr><td>&quot;null_count&quot;</td><td>&quot;0&quot;</td><td>&quot;0&quot;</td><td>&quot;0&quot;</td><td>&quot;0&quot;</td><td>1.0</td><td>1.396108e6</td><td>&quot;10446871&quot;</td><td>7.316243e6</td><td>&quot;470126&quot;</td></tr><tr><td>&quot;mean&quot;</td><td>null</td><td>null</td><td>null</td><td>null</td><td>0.03613</td><td>2005.620404</td><td>null</td><td>43.530298</td><td>null</td></tr><tr><td>&quot;std&quot;</td><td>null</td><td>null</td><td>null</td><td>null</td><td>2.979874</td><td>20.089394</td><td>null</td><td>73.323478</td><td>null</td></tr><tr><td>&quot;min&quot;</td><td>&quot;tt0000001&quot;</td><td>&quot;movie&quot;</td><td>&quot;!Next?&quot;</td><td>&quot;!Next?&quot;</td><td>0.0</td><td>1874.0</td><td>&quot;1906&quot;</td><td>0.0</td><td>&quot;Action&quot;</td></tr><tr><td>&quot;25%&quot;</td><td>null</td><td>null</td><td>null</td><td>null</td><td>0.0</td><td>2001.0</td><td>null</td><td>19.0</td><td>null</td></tr><tr><td>&quot;50%&quot;</td><td>null</td><td>null</td><td>null</td><td>null</td><td>0.0</td><td>2013.0</td><td>null</td><td>30.0</td><td>null</td></tr><tr><td>&quot;75%&quot;</td><td>null</td><td>null</td><td>null</td><td>null</td><td>0.0</td><td>2018.0</td><td>null</td><td>60.0</td><td>null</td></tr><tr><td>&quot;max&quot;</td><td>&quot;tt9916880&quot;</td><td>&quot;videoGame&quot;</td><td>&quot;起来! ARISE! - (…</td><td>&quot;“Prime Video -…</td><td>2023.0</td><td>2031.0</td><td>&quot;24&quot;</td><td>54321.0</td><td>&quot;Western&quot;</td></tr></tbody></table></div>"
      ],
      "text/plain": [
       "shape: (9, 10)\n",
       "┌────────────┬───────────┬───────────┬───────────┬───┬───────────┬──────────┬───────────┬──────────┐\n",
       "│ statistic  ┆ tconst    ┆ titleType ┆ primaryTi ┆ … ┆ startYear ┆ endYear  ┆ runtimeMi ┆ genres   │\n",
       "│ ---        ┆ ---       ┆ ---       ┆ tle       ┆   ┆ ---       ┆ ---      ┆ nutes     ┆ ---      │\n",
       "│ str        ┆ str       ┆ str       ┆ ---       ┆   ┆ f64       ┆ str      ┆ ---       ┆ str      │\n",
       "│            ┆           ┆           ┆ str       ┆   ┆           ┆          ┆ f64       ┆          │\n",
       "╞════════════╪═══════════╪═══════════╪═══════════╪═══╪═══════════╪══════════╪═══════════╪══════════╡\n",
       "│ count      ┆ 10565899  ┆ 10565899  ┆ 10565899  ┆ … ┆ 9.169791e ┆ 119028   ┆ 3.249656e ┆ 10095773 │\n",
       "│            ┆           ┆           ┆           ┆   ┆ 6         ┆          ┆ 6         ┆          │\n",
       "│ null_count ┆ 0         ┆ 0         ┆ 0         ┆ … ┆ 1.396108e ┆ 10446871 ┆ 7.316243e ┆ 470126   │\n",
       "│            ┆           ┆           ┆           ┆   ┆ 6         ┆          ┆ 6         ┆          │\n",
       "│ mean       ┆ null      ┆ null      ┆ null      ┆ … ┆ 2005.6204 ┆ null     ┆ 43.530298 ┆ null     │\n",
       "│            ┆           ┆           ┆           ┆   ┆ 04        ┆          ┆           ┆          │\n",
       "│ std        ┆ null      ┆ null      ┆ null      ┆ … ┆ 20.089394 ┆ null     ┆ 73.323478 ┆ null     │\n",
       "│ min        ┆ tt0000001 ┆ movie     ┆ !Next?    ┆ … ┆ 1874.0    ┆ 1906     ┆ 0.0       ┆ Action   │\n",
       "│ 25%        ┆ null      ┆ null      ┆ null      ┆ … ┆ 2001.0    ┆ null     ┆ 19.0      ┆ null     │\n",
       "│ 50%        ┆ null      ┆ null      ┆ null      ┆ … ┆ 2013.0    ┆ null     ┆ 30.0      ┆ null     │\n",
       "│ 75%        ┆ null      ┆ null      ┆ null      ┆ … ┆ 2018.0    ┆ null     ┆ 60.0      ┆ null     │\n",
       "│ max        ┆ tt9916880 ┆ videoGame ┆ 起来!     ┆ … ┆ 2031.0    ┆ 24       ┆ 54321.0   ┆ Western  │\n",
       "│            ┆           ┆           ┆ ARISE! -  ┆   ┆           ┆          ┆           ┆          │\n",
       "│            ┆           ┆           ┆ (Whispers ┆   ┆           ┆          ┆           ┆          │\n",
       "│            ┆           ┆           ┆ on paper) ┆   ┆           ┆          ┆           ┆          │\n",
       "└────────────┴───────────┴───────────┴───────────┴───┴───────────┴──────────┴───────────┴──────────┘"
      ]
     },
     "execution_count": 7,
     "metadata": {},
     "output_type": "execute_result"
    },
    {
     "data": {
      "text/html": [
       "<div><style>\n",
       ".dataframe > thead > tr,\n",
       ".dataframe > tbody > tr {\n",
       "  text-align: right;\n",
       "  white-space: pre-wrap;\n",
       "}\n",
       "</style>\n",
       "<small>shape: (9, 7)</small><table border=\"1\" class=\"dataframe\"><thead><tr><th>statistic</th><th>nconst</th><th>primaryName</th><th>birthYear</th><th>deathYear</th><th>primaryProfession</th><th>knownForTitles</th></tr><tr><td>str</td><td>str</td><td>str</td><td>f64</td><td>f64</td><td>str</td><td>str</td></tr></thead><tbody><tr><td>&quot;count&quot;</td><td>&quot;13271078&quot;</td><td>&quot;13271078&quot;</td><td>606412.0</td><td>225482.0</td><td>&quot;10601422&quot;</td><td>&quot;11709625&quot;</td></tr><tr><td>&quot;null_count&quot;</td><td>&quot;0&quot;</td><td>&quot;0&quot;</td><td>1.2664666e7</td><td>1.3045596e7</td><td>&quot;2669656&quot;</td><td>&quot;1561453&quot;</td></tr><tr><td>&quot;mean&quot;</td><td>null</td><td>null</td><td>1953.205632</td><td>1992.944891</td><td>null</td><td>null</td></tr><tr><td>&quot;std&quot;</td><td>null</td><td>null</td><td>34.959063</td><td>34.454425</td><td>null</td><td>null</td></tr><tr><td>&quot;min&quot;</td><td>&quot;nm0000001&quot;</td><td>&quot;!&#x27;aru Ikhuisi …</td><td>1.0</td><td>17.0</td><td>&quot;actor&quot;</td><td>&quot;tt0000003&quot;</td></tr><tr><td>&quot;25%&quot;</td><td>null</td><td>null</td><td>1932.0</td><td>1979.0</td><td>null</td><td>null</td></tr><tr><td>&quot;50%&quot;</td><td>null</td><td>null</td><td>1960.0</td><td>2001.0</td><td>null</td><td>null</td></tr><tr><td>&quot;75%&quot;</td><td>null</td><td>null</td><td>1979.0</td><td>2014.0</td><td>null</td><td>null</td></tr><tr><td>&quot;max&quot;</td><td>&quot;nm9993719&quot;</td><td>&quot;﻿Thesia Koulou…</td><td>2023.0</td><td>2024.0</td><td>&quot;writer,visual_…</td><td>&quot;tt9916856,tt11…</td></tr></tbody></table></div>"
      ],
      "text/plain": [
       "shape: (9, 7)\n",
       "┌────────────┬───────────┬───────────────┬─────────────┬─────────────┬──────────────┬──────────────┐\n",
       "│ statistic  ┆ nconst    ┆ primaryName   ┆ birthYear   ┆ deathYear   ┆ primaryProfe ┆ knownForTitl │\n",
       "│ ---        ┆ ---       ┆ ---           ┆ ---         ┆ ---         ┆ ssion        ┆ es           │\n",
       "│ str        ┆ str       ┆ str           ┆ f64         ┆ f64         ┆ ---          ┆ ---          │\n",
       "│            ┆           ┆               ┆             ┆             ┆ str          ┆ str          │\n",
       "╞════════════╪═══════════╪═══════════════╪═════════════╪═════════════╪══════════════╪══════════════╡\n",
       "│ count      ┆ 13271078  ┆ 13271078      ┆ 606412.0    ┆ 225482.0    ┆ 10601422     ┆ 11709625     │\n",
       "│ null_count ┆ 0         ┆ 0             ┆ 1.2664666e7 ┆ 1.3045596e7 ┆ 2669656      ┆ 1561453      │\n",
       "│ mean       ┆ null      ┆ null          ┆ 1953.205632 ┆ 1992.944891 ┆ null         ┆ null         │\n",
       "│ std        ┆ null      ┆ null          ┆ 34.959063   ┆ 34.454425   ┆ null         ┆ null         │\n",
       "│ min        ┆ nm0000001 ┆ !'aru Ikhuisi ┆ 1.0         ┆ 17.0        ┆ actor        ┆ tt0000003    │\n",
       "│            ┆           ┆ Piet Berendse ┆             ┆             ┆              ┆              │\n",
       "│ 25%        ┆ null      ┆ null          ┆ 1932.0      ┆ 1979.0      ┆ null         ┆ null         │\n",
       "│ 50%        ┆ null      ┆ null          ┆ 1960.0      ┆ 2001.0      ┆ null         ┆ null         │\n",
       "│ 75%        ┆ null      ┆ null          ┆ 1979.0      ┆ 2014.0      ┆ null         ┆ null         │\n",
       "│ max        ┆ nm9993719 ┆ ﻿Thesia        ┆ 2023.0      ┆ 2024.0      ┆ writer,visua ┆ tt9916856,tt │\n",
       "│            ┆           ┆ Kouloungou    ┆             ┆             ┆ l_effects,tr ┆ 11658948,tt1 │\n",
       "│            ┆           ┆               ┆             ┆             ┆ ansporta…    ┆ 4536064      │\n",
       "└────────────┴───────────┴───────────────┴─────────────┴─────────────┴──────────────┴──────────────┘"
      ]
     },
     "execution_count": 7,
     "metadata": {},
     "output_type": "execute_result"
    },
    {
     "data": {
      "text/html": [
       "<div><style>\n",
       ".dataframe > thead > tr,\n",
       ".dataframe > tbody > tr {\n",
       "  text-align: right;\n",
       "  white-space: pre-wrap;\n",
       "}\n",
       "</style>\n",
       "<small>shape: (9, 4)</small><table border=\"1\" class=\"dataframe\"><thead><tr><th>statistic</th><th>tconst</th><th>directors</th><th>writers</th></tr><tr><td>str</td><td>str</td><td>str</td><td>str</td></tr></thead><tbody><tr><td>&quot;count&quot;</td><td>&quot;10565899&quot;</td><td>&quot;6063726&quot;</td><td>&quot;5462206&quot;</td></tr><tr><td>&quot;null_count&quot;</td><td>&quot;0&quot;</td><td>&quot;4502173&quot;</td><td>&quot;5103693&quot;</td></tr><tr><td>&quot;mean&quot;</td><td>null</td><td>null</td><td>null</td></tr><tr><td>&quot;std&quot;</td><td>null</td><td>null</td><td>null</td></tr><tr><td>&quot;min&quot;</td><td>&quot;tt0000001&quot;</td><td>&quot;nm0000005&quot;</td><td>&quot;nm0000005&quot;</td></tr><tr><td>&quot;25%&quot;</td><td>null</td><td>null</td><td>null</td></tr><tr><td>&quot;50%&quot;</td><td>null</td><td>null</td><td>null</td></tr><tr><td>&quot;75%&quot;</td><td>null</td><td>null</td><td>null</td></tr><tr><td>&quot;max&quot;</td><td>&quot;tt9916880&quot;</td><td>&quot;nm9993709&quot;</td><td>&quot;nm9993713,nm31…</td></tr></tbody></table></div>"
      ],
      "text/plain": [
       "shape: (9, 4)\n",
       "┌────────────┬───────────┬───────────┬─────────────────────┐\n",
       "│ statistic  ┆ tconst    ┆ directors ┆ writers             │\n",
       "│ ---        ┆ ---       ┆ ---       ┆ ---                 │\n",
       "│ str        ┆ str       ┆ str       ┆ str                 │\n",
       "╞════════════╪═══════════╪═══════════╪═════════════════════╡\n",
       "│ count      ┆ 10565899  ┆ 6063726   ┆ 5462206             │\n",
       "│ null_count ┆ 0         ┆ 4502173   ┆ 5103693             │\n",
       "│ mean       ┆ null      ┆ null      ┆ null                │\n",
       "│ std        ┆ null      ┆ null      ┆ null                │\n",
       "│ min        ┆ tt0000001 ┆ nm0000005 ┆ nm0000005           │\n",
       "│ 25%        ┆ null      ┆ null      ┆ null                │\n",
       "│ 50%        ┆ null      ┆ null      ┆ null                │\n",
       "│ 75%        ┆ null      ┆ null      ┆ null                │\n",
       "│ max        ┆ tt9916880 ┆ nm9993709 ┆ nm9993713,nm3125335 │\n",
       "└────────────┴───────────┴───────────┴─────────────────────┘"
      ]
     },
     "execution_count": 7,
     "metadata": {},
     "output_type": "execute_result"
    }
   ],
   "source": [
    "# plot dataframe description\n",
    "for df in [df_cast, df_ratings, df_titles, df_names, df_crew]:\n",
    "    df.describe()"
   ]
  },
  {
   "cell_type": "code",
   "execution_count": 8,
   "metadata": {},
   "outputs": [
    {
     "data": {
      "text/html": [
       "<div><style>\n",
       ".dataframe > thead > tr,\n",
       ".dataframe > tbody > tr {\n",
       "  text-align: right;\n",
       "  white-space: pre-wrap;\n",
       "}\n",
       "</style>\n",
       "<small>shape: (20, 6)</small><table border=\"1\" class=\"dataframe\"><thead><tr><th>tconst</th><th>ordering</th><th>nconst</th><th>category</th><th>job</th><th>characters</th></tr><tr><td>str</td><td>i64</td><td>str</td><td>str</td><td>str</td><td>str</td></tr></thead><tbody><tr><td>&quot;tt0000001&quot;</td><td>1</td><td>&quot;nm1588970&quot;</td><td>&quot;self&quot;</td><td>null</td><td>&quot;[&quot;Self&quot;]&quot;</td></tr><tr><td>&quot;tt0000001&quot;</td><td>2</td><td>&quot;nm0005690&quot;</td><td>&quot;director&quot;</td><td>null</td><td>null</td></tr><tr><td>&quot;tt0000001&quot;</td><td>3</td><td>&quot;nm0374658&quot;</td><td>&quot;cinematographe…</td><td>&quot;director of ph…</td><td>null</td></tr><tr><td>&quot;tt0000002&quot;</td><td>1</td><td>&quot;nm0721526&quot;</td><td>&quot;director&quot;</td><td>null</td><td>null</td></tr><tr><td>&quot;tt0000002&quot;</td><td>2</td><td>&quot;nm1335271&quot;</td><td>&quot;composer&quot;</td><td>null</td><td>null</td></tr><tr><td>&quot;tt0000003&quot;</td><td>1</td><td>&quot;nm0721526&quot;</td><td>&quot;director&quot;</td><td>null</td><td>null</td></tr><tr><td>&quot;tt0000003&quot;</td><td>2</td><td>&quot;nm1770680&quot;</td><td>&quot;producer&quot;</td><td>&quot;producer&quot;</td><td>null</td></tr><tr><td>&quot;tt0000003&quot;</td><td>3</td><td>&quot;nm1335271&quot;</td><td>&quot;composer&quot;</td><td>null</td><td>null</td></tr><tr><td>&quot;tt0000003&quot;</td><td>4</td><td>&quot;nm5442200&quot;</td><td>&quot;editor&quot;</td><td>null</td><td>null</td></tr><tr><td>&quot;tt0000004&quot;</td><td>1</td><td>&quot;nm0721526&quot;</td><td>&quot;director&quot;</td><td>null</td><td>null</td></tr><tr><td>&quot;tt0000004&quot;</td><td>2</td><td>&quot;nm1335271&quot;</td><td>&quot;composer&quot;</td><td>null</td><td>null</td></tr><tr><td>&quot;tt0000005&quot;</td><td>1</td><td>&quot;nm0443482&quot;</td><td>&quot;actor&quot;</td><td>null</td><td>&quot;[&quot;Blacksmith&quot;]…</td></tr><tr><td>&quot;tt0000005&quot;</td><td>2</td><td>&quot;nm0653042&quot;</td><td>&quot;actor&quot;</td><td>null</td><td>&quot;[&quot;Assistant&quot;]&quot;</td></tr><tr><td>&quot;tt0000005&quot;</td><td>3</td><td>&quot;nm0005690&quot;</td><td>&quot;director&quot;</td><td>null</td><td>null</td></tr><tr><td>&quot;tt0000005&quot;</td><td>4</td><td>&quot;nm0249379&quot;</td><td>&quot;producer&quot;</td><td>&quot;producer&quot;</td><td>null</td></tr><tr><td>&quot;tt0000006&quot;</td><td>1</td><td>&quot;nm0005690&quot;</td><td>&quot;director&quot;</td><td>null</td><td>null</td></tr><tr><td>&quot;tt0000007&quot;</td><td>1</td><td>&quot;nm0179163&quot;</td><td>&quot;actor&quot;</td><td>null</td><td>null</td></tr><tr><td>&quot;tt0000007&quot;</td><td>2</td><td>&quot;nm0183947&quot;</td><td>&quot;actor&quot;</td><td>null</td><td>null</td></tr><tr><td>&quot;tt0000007&quot;</td><td>3</td><td>&quot;nm0005690&quot;</td><td>&quot;director&quot;</td><td>null</td><td>null</td></tr><tr><td>&quot;tt0000007&quot;</td><td>4</td><td>&quot;nm0374658&quot;</td><td>&quot;director&quot;</td><td>null</td><td>null</td></tr></tbody></table></div>"
      ],
      "text/plain": [
       "shape: (20, 6)\n",
       "┌───────────┬──────────┬───────────┬─────────────────┬─────────────────────────┬────────────┐\n",
       "│ tconst    ┆ ordering ┆ nconst    ┆ category        ┆ job                     ┆ characters │\n",
       "│ ---       ┆ ---      ┆ ---       ┆ ---             ┆ ---                     ┆ ---        │\n",
       "│ str       ┆ i64      ┆ str       ┆ str             ┆ str                     ┆ str        │\n",
       "╞═══════════╪══════════╪═══════════╪═════════════════╪═════════════════════════╪════════════╡\n",
       "│ tt0000001 ┆ 1        ┆ nm1588970 ┆ self            ┆ null                    ┆ [\"Self\"]   │\n",
       "│ tt0000001 ┆ 2        ┆ nm0005690 ┆ director        ┆ null                    ┆ null       │\n",
       "│ tt0000001 ┆ 3        ┆ nm0374658 ┆ cinematographer ┆ director of photography ┆ null       │\n",
       "│ tt0000002 ┆ 1        ┆ nm0721526 ┆ director        ┆ null                    ┆ null       │\n",
       "│ tt0000002 ┆ 2        ┆ nm1335271 ┆ composer        ┆ null                    ┆ null       │\n",
       "│ …         ┆ …        ┆ …         ┆ …               ┆ …                       ┆ …          │\n",
       "│ tt0000006 ┆ 1        ┆ nm0005690 ┆ director        ┆ null                    ┆ null       │\n",
       "│ tt0000007 ┆ 1        ┆ nm0179163 ┆ actor           ┆ null                    ┆ null       │\n",
       "│ tt0000007 ┆ 2        ┆ nm0183947 ┆ actor           ┆ null                    ┆ null       │\n",
       "│ tt0000007 ┆ 3        ┆ nm0005690 ┆ director        ┆ null                    ┆ null       │\n",
       "│ tt0000007 ┆ 4        ┆ nm0374658 ┆ director        ┆ null                    ┆ null       │\n",
       "└───────────┴──────────┴───────────┴─────────────────┴─────────────────────────┴────────────┘"
      ]
     },
     "execution_count": 8,
     "metadata": {},
     "output_type": "execute_result"
    },
    {
     "data": {
      "text/html": [
       "<div><style>\n",
       ".dataframe > thead > tr,\n",
       ".dataframe > tbody > tr {\n",
       "  text-align: right;\n",
       "  white-space: pre-wrap;\n",
       "}\n",
       "</style>\n",
       "<small>shape: (20, 3)</small><table border=\"1\" class=\"dataframe\"><thead><tr><th>tconst</th><th>averageRating</th><th>numVotes</th></tr><tr><td>str</td><td>f64</td><td>i64</td></tr></thead><tbody><tr><td>&quot;tt0000001&quot;</td><td>5.7</td><td>2024</td></tr><tr><td>&quot;tt0000002&quot;</td><td>5.7</td><td>272</td></tr><tr><td>&quot;tt0000003&quot;</td><td>6.5</td><td>1962</td></tr><tr><td>&quot;tt0000004&quot;</td><td>5.4</td><td>178</td></tr><tr><td>&quot;tt0000005&quot;</td><td>6.2</td><td>2727</td></tr><tr><td>&quot;tt0000006&quot;</td><td>5.0</td><td>184</td></tr><tr><td>&quot;tt0000007&quot;</td><td>5.4</td><td>847</td></tr><tr><td>&quot;tt0000008&quot;</td><td>5.4</td><td>2172</td></tr><tr><td>&quot;tt0000009&quot;</td><td>5.3</td><td>209</td></tr><tr><td>&quot;tt0000010&quot;</td><td>6.8</td><td>7450</td></tr><tr><td>&quot;tt0000011&quot;</td><td>5.2</td><td>382</td></tr><tr><td>&quot;tt0000012&quot;</td><td>7.4</td><td>12711</td></tr><tr><td>&quot;tt0000013&quot;</td><td>5.7</td><td>1936</td></tr><tr><td>&quot;tt0000014&quot;</td><td>7.1</td><td>5757</td></tr><tr><td>&quot;tt0000015&quot;</td><td>6.1</td><td>1142</td></tr><tr><td>&quot;tt0000016&quot;</td><td>5.9</td><td>1553</td></tr><tr><td>&quot;tt0000017&quot;</td><td>4.6</td><td>339</td></tr><tr><td>&quot;tt0000018&quot;</td><td>5.2</td><td>618</td></tr><tr><td>&quot;tt0000019&quot;</td><td>5.1</td><td>32</td></tr><tr><td>&quot;tt0000020&quot;</td><td>4.8</td><td>372</td></tr></tbody></table></div>"
      ],
      "text/plain": [
       "shape: (20, 3)\n",
       "┌───────────┬───────────────┬──────────┐\n",
       "│ tconst    ┆ averageRating ┆ numVotes │\n",
       "│ ---       ┆ ---           ┆ ---      │\n",
       "│ str       ┆ f64           ┆ i64      │\n",
       "╞═══════════╪═══════════════╪══════════╡\n",
       "│ tt0000001 ┆ 5.7           ┆ 2024     │\n",
       "│ tt0000002 ┆ 5.7           ┆ 272      │\n",
       "│ tt0000003 ┆ 6.5           ┆ 1962     │\n",
       "│ tt0000004 ┆ 5.4           ┆ 178      │\n",
       "│ tt0000005 ┆ 6.2           ┆ 2727     │\n",
       "│ …         ┆ …             ┆ …        │\n",
       "│ tt0000016 ┆ 5.9           ┆ 1553     │\n",
       "│ tt0000017 ┆ 4.6           ┆ 339      │\n",
       "│ tt0000018 ┆ 5.2           ┆ 618      │\n",
       "│ tt0000019 ┆ 5.1           ┆ 32       │\n",
       "│ tt0000020 ┆ 4.8           ┆ 372      │\n",
       "└───────────┴───────────────┴──────────┘"
      ]
     },
     "execution_count": 8,
     "metadata": {},
     "output_type": "execute_result"
    },
    {
     "data": {
      "text/html": [
       "<div><style>\n",
       ".dataframe > thead > tr,\n",
       ".dataframe > tbody > tr {\n",
       "  text-align: right;\n",
       "  white-space: pre-wrap;\n",
       "}\n",
       "</style>\n",
       "<small>shape: (20, 9)</small><table border=\"1\" class=\"dataframe\"><thead><tr><th>tconst</th><th>titleType</th><th>primaryTitle</th><th>originalTitle</th><th>isAdult</th><th>startYear</th><th>endYear</th><th>runtimeMinutes</th><th>genres</th></tr><tr><td>str</td><td>str</td><td>str</td><td>str</td><td>i64</td><td>i64</td><td>str</td><td>i64</td><td>str</td></tr></thead><tbody><tr><td>&quot;tt0000001&quot;</td><td>&quot;short&quot;</td><td>&quot;Carmencita&quot;</td><td>&quot;Carmencita&quot;</td><td>0</td><td>1894</td><td>null</td><td>1</td><td>&quot;Documentary,Sh…</td></tr><tr><td>&quot;tt0000002&quot;</td><td>&quot;short&quot;</td><td>&quot;Le clown et se…</td><td>&quot;Le clown et se…</td><td>0</td><td>1892</td><td>null</td><td>5</td><td>&quot;Animation,Shor…</td></tr><tr><td>&quot;tt0000003&quot;</td><td>&quot;short&quot;</td><td>&quot;Pauvre Pierrot…</td><td>&quot;Pauvre Pierrot…</td><td>0</td><td>1892</td><td>null</td><td>4</td><td>&quot;Animation,Come…</td></tr><tr><td>&quot;tt0000004&quot;</td><td>&quot;short&quot;</td><td>&quot;Un bon bock&quot;</td><td>&quot;Un bon bock&quot;</td><td>0</td><td>1892</td><td>null</td><td>12</td><td>&quot;Animation,Shor…</td></tr><tr><td>&quot;tt0000005&quot;</td><td>&quot;short&quot;</td><td>&quot;Blacksmith Sce…</td><td>&quot;Blacksmith Sce…</td><td>0</td><td>1893</td><td>null</td><td>1</td><td>&quot;Comedy,Short&quot;</td></tr><tr><td>&quot;tt0000006&quot;</td><td>&quot;short&quot;</td><td>&quot;Chinese Opium …</td><td>&quot;Chinese Opium …</td><td>0</td><td>1894</td><td>null</td><td>1</td><td>&quot;Short&quot;</td></tr><tr><td>&quot;tt0000007&quot;</td><td>&quot;short&quot;</td><td>&quot;Corbett and Co…</td><td>&quot;Corbett and Co…</td><td>0</td><td>1894</td><td>null</td><td>1</td><td>&quot;Short,Sport&quot;</td></tr><tr><td>&quot;tt0000008&quot;</td><td>&quot;short&quot;</td><td>&quot;Edison Kinetos…</td><td>&quot;Edison Kinetos…</td><td>0</td><td>1894</td><td>null</td><td>1</td><td>&quot;Documentary,Sh…</td></tr><tr><td>&quot;tt0000009&quot;</td><td>&quot;movie&quot;</td><td>&quot;Miss Jerry&quot;</td><td>&quot;Miss Jerry&quot;</td><td>0</td><td>1894</td><td>null</td><td>45</td><td>&quot;Romance&quot;</td></tr><tr><td>&quot;tt0000010&quot;</td><td>&quot;short&quot;</td><td>&quot;Leaving the Fa…</td><td>&quot;La sortie de l…</td><td>0</td><td>1895</td><td>null</td><td>1</td><td>&quot;Documentary,Sh…</td></tr><tr><td>&quot;tt0000011&quot;</td><td>&quot;short&quot;</td><td>&quot;Akrobatisches …</td><td>&quot;Akrobatisches …</td><td>0</td><td>1895</td><td>null</td><td>1</td><td>&quot;Documentary,Sh…</td></tr><tr><td>&quot;tt0000012&quot;</td><td>&quot;short&quot;</td><td>&quot;The Arrival of…</td><td>&quot;L&#x27;arrivée d&#x27;un…</td><td>0</td><td>1896</td><td>null</td><td>1</td><td>&quot;Documentary,Sh…</td></tr><tr><td>&quot;tt0000013&quot;</td><td>&quot;short&quot;</td><td>&quot;The Photograph…</td><td>&quot;Le débarquemen…</td><td>0</td><td>1895</td><td>null</td><td>1</td><td>&quot;Documentary,Sh…</td></tr><tr><td>&quot;tt0000014&quot;</td><td>&quot;short&quot;</td><td>&quot;The Waterer Wa…</td><td>&quot;L&#x27;arroseur arr…</td><td>0</td><td>1895</td><td>null</td><td>1</td><td>&quot;Comedy,Short&quot;</td></tr><tr><td>&quot;tt0000015&quot;</td><td>&quot;short&quot;</td><td>&quot;Autour d&#x27;une c…</td><td>&quot;Autour d&#x27;une c…</td><td>0</td><td>1894</td><td>null</td><td>2</td><td>&quot;Animation,Shor…</td></tr><tr><td>&quot;tt0000016&quot;</td><td>&quot;short&quot;</td><td>&quot;Boat Leaving t…</td><td>&quot;Barque sortant…</td><td>0</td><td>1895</td><td>null</td><td>1</td><td>&quot;Documentary,Sh…</td></tr><tr><td>&quot;tt0000017&quot;</td><td>&quot;short&quot;</td><td>&quot;Italienischer …</td><td>&quot;Italienischer …</td><td>0</td><td>1895</td><td>null</td><td>1</td><td>&quot;Documentary,Sh…</td></tr><tr><td>&quot;tt0000018&quot;</td><td>&quot;short&quot;</td><td>&quot;Das boxende Kä…</td><td>&quot;Das boxende Kä…</td><td>0</td><td>1895</td><td>null</td><td>1</td><td>&quot;Short&quot;</td></tr><tr><td>&quot;tt0000019&quot;</td><td>&quot;short&quot;</td><td>&quot;The Clown Barb…</td><td>&quot;The Clown Barb…</td><td>0</td><td>1898</td><td>null</td><td>null</td><td>&quot;Comedy,Short&quot;</td></tr><tr><td>&quot;tt0000020&quot;</td><td>&quot;short&quot;</td><td>&quot;The Derby 1895…</td><td>&quot;The Derby 1895…</td><td>0</td><td>1895</td><td>null</td><td>1</td><td>&quot;Documentary,Sh…</td></tr></tbody></table></div>"
      ],
      "text/plain": [
       "shape: (20, 9)\n",
       "┌───────────┬───────────┬────────────┬───────────┬───┬───────────┬─────────┬───────────┬───────────┐\n",
       "│ tconst    ┆ titleType ┆ primaryTit ┆ originalT ┆ … ┆ startYear ┆ endYear ┆ runtimeMi ┆ genres    │\n",
       "│ ---       ┆ ---       ┆ le         ┆ itle      ┆   ┆ ---       ┆ ---     ┆ nutes     ┆ ---       │\n",
       "│ str       ┆ str       ┆ ---        ┆ ---       ┆   ┆ i64       ┆ str     ┆ ---       ┆ str       │\n",
       "│           ┆           ┆ str        ┆ str       ┆   ┆           ┆         ┆ i64       ┆           │\n",
       "╞═══════════╪═══════════╪════════════╪═══════════╪═══╪═══════════╪═════════╪═══════════╪═══════════╡\n",
       "│ tt0000001 ┆ short     ┆ Carmencita ┆ Carmencit ┆ … ┆ 1894      ┆ null    ┆ 1         ┆ Documenta │\n",
       "│           ┆           ┆            ┆ a         ┆   ┆           ┆         ┆           ┆ ry,Short  │\n",
       "│ tt0000002 ┆ short     ┆ Le clown   ┆ Le clown  ┆ … ┆ 1892      ┆ null    ┆ 5         ┆ Animation │\n",
       "│           ┆           ┆ et ses     ┆ et ses    ┆   ┆           ┆         ┆           ┆ ,Short    │\n",
       "│           ┆           ┆ chiens     ┆ chiens    ┆   ┆           ┆         ┆           ┆           │\n",
       "│ tt0000003 ┆ short     ┆ Pauvre     ┆ Pauvre    ┆ … ┆ 1892      ┆ null    ┆ 4         ┆ Animation │\n",
       "│           ┆           ┆ Pierrot    ┆ Pierrot   ┆   ┆           ┆         ┆           ┆ ,Comedy,R │\n",
       "│           ┆           ┆            ┆           ┆   ┆           ┆         ┆           ┆ omance    │\n",
       "│ tt0000004 ┆ short     ┆ Un bon     ┆ Un bon    ┆ … ┆ 1892      ┆ null    ┆ 12        ┆ Animation │\n",
       "│           ┆           ┆ bock       ┆ bock      ┆   ┆           ┆         ┆           ┆ ,Short    │\n",
       "│ tt0000005 ┆ short     ┆ Blacksmith ┆ Blacksmit ┆ … ┆ 1893      ┆ null    ┆ 1         ┆ Comedy,Sh │\n",
       "│           ┆           ┆ Scene      ┆ h Scene   ┆   ┆           ┆         ┆           ┆ ort       │\n",
       "│ …         ┆ …         ┆ …          ┆ …         ┆ … ┆ …         ┆ …       ┆ …         ┆ …         │\n",
       "│ tt0000016 ┆ short     ┆ Boat       ┆ Barque    ┆ … ┆ 1895      ┆ null    ┆ 1         ┆ Documenta │\n",
       "│           ┆           ┆ Leaving    ┆ sortant   ┆   ┆           ┆         ┆           ┆ ry,Short  │\n",
       "│           ┆           ┆ the Port   ┆ du port   ┆   ┆           ┆         ┆           ┆           │\n",
       "│ tt0000017 ┆ short     ┆ Italienisc ┆ Italienis ┆ … ┆ 1895      ┆ null    ┆ 1         ┆ Documenta │\n",
       "│           ┆           ┆ her        ┆ cher Baue ┆   ┆           ┆         ┆           ┆ ry,Short  │\n",
       "│           ┆           ┆ Bauerntanz ┆ rntanz    ┆   ┆           ┆         ┆           ┆           │\n",
       "│ tt0000018 ┆ short     ┆ Das        ┆ Das       ┆ … ┆ 1895      ┆ null    ┆ 1         ┆ Short     │\n",
       "│           ┆           ┆ boxende    ┆ boxende   ┆   ┆           ┆         ┆           ┆           │\n",
       "│           ┆           ┆ Känguruh   ┆ Känguruh  ┆   ┆           ┆         ┆           ┆           │\n",
       "│ tt0000019 ┆ short     ┆ The Clown  ┆ The Clown ┆ … ┆ 1898      ┆ null    ┆ null      ┆ Comedy,Sh │\n",
       "│           ┆           ┆ Barber     ┆ Barber    ┆   ┆           ┆         ┆           ┆ ort       │\n",
       "│ tt0000020 ┆ short     ┆ The Derby  ┆ The Derby ┆ … ┆ 1895      ┆ null    ┆ 1         ┆ Documenta │\n",
       "│           ┆           ┆ 1895       ┆ 1895      ┆   ┆           ┆         ┆           ┆ ry,Short, │\n",
       "│           ┆           ┆            ┆           ┆   ┆           ┆         ┆           ┆ Sport     │\n",
       "└───────────┴───────────┴────────────┴───────────┴───┴───────────┴─────────┴───────────┴───────────┘"
      ]
     },
     "execution_count": 8,
     "metadata": {},
     "output_type": "execute_result"
    },
    {
     "data": {
      "text/html": [
       "<div><style>\n",
       ".dataframe > thead > tr,\n",
       ".dataframe > tbody > tr {\n",
       "  text-align: right;\n",
       "  white-space: pre-wrap;\n",
       "}\n",
       "</style>\n",
       "<small>shape: (20, 6)</small><table border=\"1\" class=\"dataframe\"><thead><tr><th>nconst</th><th>primaryName</th><th>birthYear</th><th>deathYear</th><th>primaryProfession</th><th>knownForTitles</th></tr><tr><td>str</td><td>str</td><td>i64</td><td>i64</td><td>str</td><td>str</td></tr></thead><tbody><tr><td>&quot;nm0000001&quot;</td><td>&quot;Fred Astaire&quot;</td><td>1899</td><td>1987</td><td>&quot;soundtrack,act…</td><td>&quot;tt0027125,tt00…</td></tr><tr><td>&quot;nm0000002&quot;</td><td>&quot;Lauren Bacall&quot;</td><td>1924</td><td>2014</td><td>&quot;actress,soundt…</td><td>&quot;tt0117057,tt00…</td></tr><tr><td>&quot;nm0000003&quot;</td><td>&quot;Brigitte Bardo…</td><td>1934</td><td>null</td><td>&quot;actress,soundt…</td><td>&quot;tt0049189,tt00…</td></tr><tr><td>&quot;nm0000004&quot;</td><td>&quot;John Belushi&quot;</td><td>1949</td><td>1982</td><td>&quot;actor,soundtra…</td><td>&quot;tt0077975,tt00…</td></tr><tr><td>&quot;nm0000005&quot;</td><td>&quot;Ingmar Bergman…</td><td>1918</td><td>2007</td><td>&quot;writer,directo…</td><td>&quot;tt0050976,tt00…</td></tr><tr><td>&quot;nm0000006&quot;</td><td>&quot;Ingrid Bergman…</td><td>1915</td><td>1982</td><td>&quot;actress,soundt…</td><td>&quot;tt0034583,tt00…</td></tr><tr><td>&quot;nm0000007&quot;</td><td>&quot;Humphrey Bogar…</td><td>1899</td><td>1957</td><td>&quot;actor,soundtra…</td><td>&quot;tt0034583,tt00…</td></tr><tr><td>&quot;nm0000008&quot;</td><td>&quot;Marlon Brando&quot;</td><td>1924</td><td>2004</td><td>&quot;actor,soundtra…</td><td>&quot;tt0068646,tt00…</td></tr><tr><td>&quot;nm0000009&quot;</td><td>&quot;Richard Burton…</td><td>1925</td><td>1984</td><td>&quot;actor,soundtra…</td><td>&quot;tt0057877,tt00…</td></tr><tr><td>&quot;nm0000010&quot;</td><td>&quot;James Cagney&quot;</td><td>1899</td><td>1986</td><td>&quot;actor,soundtra…</td><td>&quot;tt0035575,tt00…</td></tr><tr><td>&quot;nm0000011&quot;</td><td>&quot;Gary Cooper&quot;</td><td>1901</td><td>1961</td><td>&quot;actor,soundtra…</td><td>&quot;tt0044706,tt00…</td></tr><tr><td>&quot;nm0000012&quot;</td><td>&quot;Bette Davis&quot;</td><td>1908</td><td>1989</td><td>&quot;actress,soundt…</td><td>&quot;tt0031210,tt00…</td></tr><tr><td>&quot;nm0000013&quot;</td><td>&quot;Doris Day&quot;</td><td>1922</td><td>2019</td><td>&quot;soundtrack,act…</td><td>&quot;tt0048317,tt00…</td></tr><tr><td>&quot;nm0000014&quot;</td><td>&quot;Olivia de Havi…</td><td>1916</td><td>2020</td><td>&quot;actress,soundt…</td><td>&quot;tt0029843,tt00…</td></tr><tr><td>&quot;nm0000015&quot;</td><td>&quot;James Dean&quot;</td><td>1931</td><td>1955</td><td>&quot;actor,miscella…</td><td>&quot;tt0048028,tt00…</td></tr><tr><td>&quot;nm0000016&quot;</td><td>&quot;Georges Deleru…</td><td>1925</td><td>1992</td><td>&quot;composer,sound…</td><td>&quot;tt0069946,tt88…</td></tr><tr><td>&quot;nm0000017&quot;</td><td>&quot;Marlene Dietri…</td><td>1901</td><td>1992</td><td>&quot;soundtrack,act…</td><td>&quot;tt0021156,tt00…</td></tr><tr><td>&quot;nm0000018&quot;</td><td>&quot;Kirk Douglas&quot;</td><td>1916</td><td>2020</td><td>&quot;actor,producer…</td><td>&quot;tt0050825,tt00…</td></tr><tr><td>&quot;nm0000019&quot;</td><td>&quot;Federico Felli…</td><td>1920</td><td>1993</td><td>&quot;writer,directo…</td><td>&quot;tt0071129,tt00…</td></tr><tr><td>&quot;nm0000020&quot;</td><td>&quot;Henry Fonda&quot;</td><td>1905</td><td>1982</td><td>&quot;actor,producer…</td><td>&quot;tt0050083,tt00…</td></tr></tbody></table></div>"
      ],
      "text/plain": [
       "shape: (20, 6)\n",
       "┌───────────┬──────────────────┬───────────┬───────────┬─────────────────────┬─────────────────────┐\n",
       "│ nconst    ┆ primaryName      ┆ birthYear ┆ deathYear ┆ primaryProfession   ┆ knownForTitles      │\n",
       "│ ---       ┆ ---              ┆ ---       ┆ ---       ┆ ---                 ┆ ---                 │\n",
       "│ str       ┆ str              ┆ i64       ┆ i64       ┆ str                 ┆ str                 │\n",
       "╞═══════════╪══════════════════╪═══════════╪═══════════╪═════════════════════╪═════════════════════╡\n",
       "│ nm0000001 ┆ Fred Astaire     ┆ 1899      ┆ 1987      ┆ soundtrack,actor,mi ┆ tt0027125,tt0053137 │\n",
       "│           ┆                  ┆           ┆           ┆ scellaneous         ┆ ,tt0050419,tt…      │\n",
       "│ nm0000002 ┆ Lauren Bacall    ┆ 1924      ┆ 2014      ┆ actress,soundtrack  ┆ tt0117057,tt0037382 │\n",
       "│           ┆                  ┆           ┆           ┆                     ┆ ,tt0038355,tt…      │\n",
       "│ nm0000003 ┆ Brigitte Bardot  ┆ 1934      ┆ null      ┆ actress,soundtrack, ┆ tt0049189,tt0054452 │\n",
       "│           ┆                  ┆           ┆           ┆ music_departm…      ┆ ,tt0056404,tt…      │\n",
       "│ nm0000004 ┆ John Belushi     ┆ 1949      ┆ 1982      ┆ actor,soundtrack,wr ┆ tt0077975,tt0078723 │\n",
       "│           ┆                  ┆           ┆           ┆ iter                ┆ ,tt0080455,tt…      │\n",
       "│ nm0000005 ┆ Ingmar Bergman   ┆ 1918      ┆ 2007      ┆ writer,director,act ┆ tt0050976,tt0083922 │\n",
       "│           ┆                  ┆           ┆           ┆ or                  ┆ ,tt0069467,tt…      │\n",
       "│ …         ┆ …                ┆ …         ┆ …         ┆ …                   ┆ …                   │\n",
       "│ nm0000016 ┆ Georges Delerue  ┆ 1925      ┆ 1992      ┆ composer,soundtrack ┆ tt0069946,tt8847712 │\n",
       "│           ┆                  ┆           ┆           ┆ ,music_depart…      ┆ ,tt0096320,tt…      │\n",
       "│ nm0000017 ┆ Marlene Dietrich ┆ 1901      ┆ 1992      ┆ soundtrack,actress, ┆ tt0021156,tt0055031 │\n",
       "│           ┆                  ┆           ┆           ┆ music_departm…      ┆ ,tt0052311,tt…      │\n",
       "│ nm0000018 ┆ Kirk Douglas     ┆ 1916      ┆ 2020      ┆ actor,producer,soun ┆ tt0050825,tt0049456 │\n",
       "│           ┆                  ┆           ┆           ┆ dtrack              ┆ ,tt0080736,tt…      │\n",
       "│ nm0000019 ┆ Federico Fellini ┆ 1920      ┆ 1993      ┆ writer,director,act ┆ tt0071129,tt0056801 │\n",
       "│           ┆                  ┆           ┆           ┆ or                  ┆ ,tt0050783,tt…      │\n",
       "│ nm0000020 ┆ Henry Fonda      ┆ 1905      ┆ 1982      ┆ actor,producer,soun ┆ tt0050083,tt0051207 │\n",
       "│           ┆                  ┆           ┆           ┆ dtrack              ┆ ,tt0032551,tt…      │\n",
       "└───────────┴──────────────────┴───────────┴───────────┴─────────────────────┴─────────────────────┘"
      ]
     },
     "execution_count": 8,
     "metadata": {},
     "output_type": "execute_result"
    },
    {
     "data": {
      "text/html": [
       "<div><style>\n",
       ".dataframe > thead > tr,\n",
       ".dataframe > tbody > tr {\n",
       "  text-align: right;\n",
       "  white-space: pre-wrap;\n",
       "}\n",
       "</style>\n",
       "<small>shape: (20, 3)</small><table border=\"1\" class=\"dataframe\"><thead><tr><th>tconst</th><th>directors</th><th>writers</th></tr><tr><td>str</td><td>str</td><td>str</td></tr></thead><tbody><tr><td>&quot;tt0000001&quot;</td><td>&quot;nm0005690&quot;</td><td>null</td></tr><tr><td>&quot;tt0000002&quot;</td><td>&quot;nm0721526&quot;</td><td>null</td></tr><tr><td>&quot;tt0000003&quot;</td><td>&quot;nm0721526&quot;</td><td>null</td></tr><tr><td>&quot;tt0000004&quot;</td><td>&quot;nm0721526&quot;</td><td>null</td></tr><tr><td>&quot;tt0000005&quot;</td><td>&quot;nm0005690&quot;</td><td>null</td></tr><tr><td>&quot;tt0000006&quot;</td><td>&quot;nm0005690&quot;</td><td>null</td></tr><tr><td>&quot;tt0000007&quot;</td><td>&quot;nm0005690,nm03…</td><td>null</td></tr><tr><td>&quot;tt0000008&quot;</td><td>&quot;nm0005690&quot;</td><td>null</td></tr><tr><td>&quot;tt0000009&quot;</td><td>&quot;nm0085156&quot;</td><td>&quot;nm0085156&quot;</td></tr><tr><td>&quot;tt0000010&quot;</td><td>&quot;nm0525910&quot;</td><td>null</td></tr><tr><td>&quot;tt0000011&quot;</td><td>&quot;nm0804434&quot;</td><td>null</td></tr><tr><td>&quot;tt0000012&quot;</td><td>&quot;nm0525910,nm05…</td><td>null</td></tr><tr><td>&quot;tt0000013&quot;</td><td>&quot;nm0525910&quot;</td><td>null</td></tr><tr><td>&quot;tt0000014&quot;</td><td>&quot;nm0525910&quot;</td><td>null</td></tr><tr><td>&quot;tt0000015&quot;</td><td>&quot;nm0721526&quot;</td><td>null</td></tr><tr><td>&quot;tt0000016&quot;</td><td>&quot;nm0525910&quot;</td><td>null</td></tr><tr><td>&quot;tt0000017&quot;</td><td>&quot;nm1587194,nm08…</td><td>null</td></tr><tr><td>&quot;tt0000018&quot;</td><td>&quot;nm0804434&quot;</td><td>null</td></tr><tr><td>&quot;tt0000019&quot;</td><td>&quot;nm0932055&quot;</td><td>null</td></tr><tr><td>&quot;tt0000020&quot;</td><td>&quot;nm0010291&quot;</td><td>null</td></tr></tbody></table></div>"
      ],
      "text/plain": [
       "shape: (20, 3)\n",
       "┌───────────┬─────────────────────┬─────────┐\n",
       "│ tconst    ┆ directors           ┆ writers │\n",
       "│ ---       ┆ ---                 ┆ ---     │\n",
       "│ str       ┆ str                 ┆ str     │\n",
       "╞═══════════╪═════════════════════╪═════════╡\n",
       "│ tt0000001 ┆ nm0005690           ┆ null    │\n",
       "│ tt0000002 ┆ nm0721526           ┆ null    │\n",
       "│ tt0000003 ┆ nm0721526           ┆ null    │\n",
       "│ tt0000004 ┆ nm0721526           ┆ null    │\n",
       "│ tt0000005 ┆ nm0005690           ┆ null    │\n",
       "│ …         ┆ …                   ┆ …       │\n",
       "│ tt0000016 ┆ nm0525910           ┆ null    │\n",
       "│ tt0000017 ┆ nm1587194,nm0804434 ┆ null    │\n",
       "│ tt0000018 ┆ nm0804434           ┆ null    │\n",
       "│ tt0000019 ┆ nm0932055           ┆ null    │\n",
       "│ tt0000020 ┆ nm0010291           ┆ null    │\n",
       "└───────────┴─────────────────────┴─────────┘"
      ]
     },
     "execution_count": 8,
     "metadata": {},
     "output_type": "execute_result"
    }
   ],
   "source": [
    "for df in [df_cast, df_ratings, df_titles, df_names, df_crew]:\n",
    "    df.head(20)"
   ]
  },
  {
   "cell_type": "markdown",
   "metadata": {},
   "source": [
    "##### 3.2. Create a schema\n",
    "This image shows the original schema:\n",
    "\n",
    "![title](./resources/raw_data.png)\n",
    "\n",
    "Several issues spring to mind when visualizing the relation between these tables:\n",
    "1. Identify and use appropriate data types, such as INT for `endYear` in `titles`\n",
    "2. Optimize the table schema by normalizing the database\n",
    "3. Replacing a faulty value in `isAdult` in `titles`\n",
    "\n",
    "This creates something along the lines of the following schema:\n",
    "\n",
    "![title](./resources/cleaned_data.png)"
   ]
  },
  {
   "cell_type": "markdown",
   "metadata": {},
   "source": [
    "##### 3.3 Apply optimizations\n",
    "Bring the data into the optimized format for easier manipulation from data scientists down the line."
   ]
  },
  {
   "cell_type": "code",
   "execution_count": 9,
   "metadata": {},
   "outputs": [],
   "source": [
    "# move characters to its own table\n",
    "df_characters = (\n",
    "    df_cast.select(\n",
    "        pl.col(\"tconst\"),\n",
    "        pl.col(\"nconst\"),\n",
    "        pl.col(\"characters\").str.json_decode().alias(\"character\"),\n",
    "    )\n",
    "    .drop_nulls()\n",
    "    .explode(\"character\")\n",
    ")\n",
    "\n",
    "df_cast = df_cast.select(\n",
    "    pl.col(\"tconst\"),\n",
    "    pl.col(\"nconst\"),\n",
    "    pl.col(\"ordering\"),\n",
    "    pl.col(\"category\"),\n",
    "    pl.col(\"job\"),\n",
    ")"
   ]
  },
  {
   "cell_type": "code",
   "execution_count": 10,
   "metadata": {},
   "outputs": [],
   "source": [
    "# extract known for titles from names\n",
    "df_known_for = (\n",
    "    df_names.select(\n",
    "        pl.col(\"knownForTitles\").alias(\"tconst\").str.split(\",\"),\n",
    "        pl.col(\"nconst\"),\n",
    "    )\n",
    "    .drop_nulls()\n",
    "    .explode(\"tconst\")\n",
    ")"
   ]
  },
  {
   "cell_type": "code",
   "execution_count": 11,
   "metadata": {},
   "outputs": [],
   "source": [
    "# explode the directors and writers\n",
    "df_directors = (\n",
    "    df_crew.select(\"tconst\", pl.col(\"directors\").str.split(\",\").alias(\"nconst\"))\n",
    "    .drop_nulls()\n",
    "    .explode(\"nconst\")\n",
    ")"
   ]
  },
  {
   "cell_type": "code",
   "execution_count": 13,
   "metadata": {},
   "outputs": [],
   "source": [
    "df_writers = (\n",
    "    df_crew.select(\"tconst\", pl.col(\"writers\").str.split(\",\").alias(\"nconst\"))\n",
    "    .drop_nulls()\n",
    "    .explode(\"nconst\")\n",
    ")"
   ]
  },
  {
   "cell_type": "code",
   "execution_count": 14,
   "metadata": {},
   "outputs": [],
   "source": [
    "# table for actors\n",
    "df_actors = df_cast.filter(pl.col(\"category\") == \"actor\").select(\"tconst\", \"nconst\")"
   ]
  },
  {
   "cell_type": "code",
   "execution_count": 15,
   "metadata": {},
   "outputs": [],
   "source": [
    "# extract professions from names\n",
    "df_professions = (\n",
    "    df_names.select(\n",
    "        \"nconst\",\n",
    "        pl.col(\"primaryProfession\").str.split(\",\"),\n",
    "    )\n",
    "    .drop_nulls()\n",
    "    .explode(\"primaryProfession\")\n",
    ")\n",
    "# df_professions.to_dummies(\"primaryProfession\")"
   ]
  },
  {
   "cell_type": "code",
   "execution_count": 16,
   "metadata": {},
   "outputs": [],
   "source": [
    "# convert endYear type\n",
    "df_names = df_names.drop(\"primaryProfession\", \"knownForTitles\")\n"
   ]
  },
  {
   "cell_type": "code",
   "execution_count": 17,
   "metadata": {},
   "outputs": [],
   "source": [
    "df_genres = (\n",
    "    df_titles.select(\n",
    "        \"tconst\",\n",
    "        pl.col(\"genres\").str.split(\",\").alias(\"genre\"),\n",
    "    )\n",
    "    .drop_nulls()\n",
    "    .explode(\"genre\")\n",
    ")"
   ]
  },
  {
   "cell_type": "code",
   "execution_count": 18,
   "metadata": {},
   "outputs": [],
   "source": [
    "# convert endYear type to INT\n",
    "df_titles = df_titles.with_columns(\n",
    "    pl.col(\"isAdult\").fill_null(1),\n",
    "    pl.col(\"endYear\").cast(pl.Int32).alias(\"endYear\")\n",
    ").drop(\"genres\")"
   ]
  },
  {
   "cell_type": "markdown",
   "metadata": {},
   "source": [
    "#### 4. Design a query that returns data in the desired format for a given movie or person and specific metrics.\n",
    "To be able to calculate the success of a movie or person based on the data, several steps need to be done.\n",
    "The first step is the calculation of success metrics.\n",
    "Afterwards, we will join all data required for the data scientists into a single dataframe."
   ]
  },
  {
   "cell_type": "code",
   "execution_count": 19,
   "metadata": {},
   "outputs": [
    {
     "data": {
      "text/html": [
       "<div><style>\n",
       ".dataframe > thead > tr,\n",
       ".dataframe > tbody > tr {\n",
       "  text-align: right;\n",
       "  white-space: pre-wrap;\n",
       "}\n",
       "</style>\n",
       "<small>shape: (5, 3)</small><table border=\"1\" class=\"dataframe\"><thead><tr><th>nconst</th><th>knownAverageRating</th><th>knownNumVotes</th></tr><tr><td>str</td><td>f64</td><td>i64</td></tr></thead><tbody><tr><td>&quot;nm0547514&quot;</td><td>4.5</td><td>26</td></tr><tr><td>&quot;nm12789950&quot;</td><td>6.6</td><td>10</td></tr><tr><td>&quot;nm13976552&quot;</td><td>6.7</td><td>69</td></tr><tr><td>&quot;nm0531759&quot;</td><td>7.625</td><td>98054</td></tr><tr><td>&quot;nm2028939&quot;</td><td>8.75</td><td>32</td></tr></tbody></table></div>"
      ],
      "text/plain": [
       "shape: (5, 3)\n",
       "┌────────────┬────────────────────┬───────────────┐\n",
       "│ nconst     ┆ knownAverageRating ┆ knownNumVotes │\n",
       "│ ---        ┆ ---                ┆ ---           │\n",
       "│ str        ┆ f64                ┆ i64           │\n",
       "╞════════════╪════════════════════╪═══════════════╡\n",
       "│ nm0547514  ┆ 4.5                ┆ 26            │\n",
       "│ nm12789950 ┆ 6.6                ┆ 10            │\n",
       "│ nm13976552 ┆ 6.7                ┆ 69            │\n",
       "│ nm0531759  ┆ 7.625              ┆ 98054         │\n",
       "│ nm2028939  ┆ 8.75               ┆ 32            │\n",
       "└────────────┴────────────────────┴───────────────┘"
      ]
     },
     "execution_count": 19,
     "metadata": {},
     "output_type": "execute_result"
    }
   ],
   "source": [
    "# calculate the performance of title the person is known for\n",
    "df_rating_known_for = df_known_for.join(df_ratings, on=\"tconst\").group_by(\"nconst\").agg(\n",
    "    pl.col(\"averageRating\").mean().alias(\"knownAverageRating\"),\n",
    "    pl.col(\"numVotes\").sum().alias(\"knownNumVotes\"),\n",
    ")\n",
    "df_rating_known_for.head()"
   ]
  },
  {
   "cell_type": "code",
   "execution_count": 20,
   "metadata": {},
   "outputs": [
    {
     "data": {
      "text/html": [
       "<div><style>\n",
       ".dataframe > thead > tr,\n",
       ".dataframe > tbody > tr {\n",
       "  text-align: right;\n",
       "  white-space: pre-wrap;\n",
       "}\n",
       "</style>\n",
       "<small>shape: (25, 4)</small><table border=\"1\" class=\"dataframe\"><thead><tr><th>nconst</th><th>tconst</th><th>averageRating</th><th>numVotes</th></tr><tr><td>str</td><td>str</td><td>f64</td><td>i64</td></tr></thead><tbody><tr><td>&quot;nm0443482&quot;</td><td>&quot;tt0000005&quot;</td><td>6.2</td><td>2727</td></tr><tr><td>&quot;nm0653042&quot;</td><td>&quot;tt0000005&quot;</td><td>6.2</td><td>2727</td></tr><tr><td>&quot;nm0179163&quot;</td><td>&quot;tt0000007&quot;</td><td>5.4</td><td>847</td></tr><tr><td>&quot;nm0183947&quot;</td><td>&quot;tt0000007&quot;</td><td>5.4</td><td>847</td></tr><tr><td>&quot;nm0653028&quot;</td><td>&quot;tt0000008&quot;</td><td>5.4</td><td>2172</td></tr><tr><td>&quot;nm0183823&quot;</td><td>&quot;tt0000009&quot;</td><td>5.3</td><td>209</td></tr><tr><td>&quot;nm1309758&quot;</td><td>&quot;tt0000009&quot;</td><td>5.3</td><td>209</td></tr><tr><td>&quot;nm3692297&quot;</td><td>&quot;tt0000011&quot;</td><td>5.2</td><td>382</td></tr><tr><td>&quot;nm0166380&quot;</td><td>&quot;tt0000014&quot;</td><td>7.1</td><td>5757</td></tr><tr><td>&quot;nm0244989&quot;</td><td>&quot;tt0000014&quot;</td><td>7.1</td><td>5757</td></tr><tr><td>&quot;nm3691272&quot;</td><td>&quot;tt0000017&quot;</td><td>4.6</td><td>339</td></tr><tr><td>&quot;nm3692071&quot;</td><td>&quot;tt0000018&quot;</td><td>5.2</td><td>618</td></tr><tr><td>&quot;nm2350007&quot;</td><td>&quot;tt0000026&quot;</td><td>5.6</td><td>1585</td></tr><tr><td>&quot;nm0525907&quot;</td><td>&quot;tt0000026&quot;</td><td>5.6</td><td>1585</td></tr><tr><td>&quot;nm1151424&quot;</td><td>&quot;tt0000026&quot;</td><td>5.6</td><td>1585</td></tr><tr><td>&quot;nm2354154&quot;</td><td>&quot;tt0000026&quot;</td><td>5.6</td><td>1585</td></tr><tr><td>&quot;nm0420198&quot;</td><td>&quot;tt0000036&quot;</td><td>4.4</td><td>620</td></tr><tr><td>&quot;nm0617588&quot;</td><td>&quot;tt0000063&quot;</td><td>3.3</td><td>29</td></tr><tr><td>&quot;nm0617588&quot;</td><td>&quot;tt0000064&quot;</td><td>3.0</td><td>30</td></tr><tr><td>&quot;nm0617588&quot;</td><td>&quot;tt0000065&quot;</td><td>3.2</td><td>30</td></tr><tr><td>&quot;nm0617588&quot;</td><td>&quot;tt0000066&quot;</td><td>3.2</td><td>30</td></tr><tr><td>&quot;nm0525908&quot;</td><td>&quot;tt0000070&quot;</td><td>6.4</td><td>2735</td></tr><tr><td>&quot;nm0617588&quot;</td><td>&quot;tt0000075&quot;</td><td>6.3</td><td>2017</td></tr><tr><td>&quot;nm0420198&quot;</td><td>&quot;tt0000076&quot;</td><td>4.5</td><td>550</td></tr><tr><td>&quot;nm6170115&quot;</td><td>&quot;tt0000091&quot;</td><td>6.7</td><td>3910</td></tr></tbody></table></div>"
      ],
      "text/plain": [
       "shape: (25, 4)\n",
       "┌───────────┬───────────┬───────────────┬──────────┐\n",
       "│ nconst    ┆ tconst    ┆ averageRating ┆ numVotes │\n",
       "│ ---       ┆ ---       ┆ ---           ┆ ---      │\n",
       "│ str       ┆ str       ┆ f64           ┆ i64      │\n",
       "╞═══════════╪═══════════╪═══════════════╪══════════╡\n",
       "│ nm0443482 ┆ tt0000005 ┆ 6.2           ┆ 2727     │\n",
       "│ nm0653042 ┆ tt0000005 ┆ 6.2           ┆ 2727     │\n",
       "│ nm0179163 ┆ tt0000007 ┆ 5.4           ┆ 847      │\n",
       "│ nm0183947 ┆ tt0000007 ┆ 5.4           ┆ 847      │\n",
       "│ nm0653028 ┆ tt0000008 ┆ 5.4           ┆ 2172     │\n",
       "│ …         ┆ …         ┆ …             ┆ …        │\n",
       "│ nm0617588 ┆ tt0000066 ┆ 3.2           ┆ 30       │\n",
       "│ nm0525908 ┆ tt0000070 ┆ 6.4           ┆ 2735     │\n",
       "│ nm0617588 ┆ tt0000075 ┆ 6.3           ┆ 2017     │\n",
       "│ nm0420198 ┆ tt0000076 ┆ 4.5           ┆ 550      │\n",
       "│ nm6170115 ┆ tt0000091 ┆ 6.7           ┆ 3910     │\n",
       "└───────────┴───────────┴───────────────┴──────────┘"
      ]
     },
     "execution_count": 20,
     "metadata": {},
     "output_type": "execute_result"
    }
   ],
   "source": [
    "# calculate the performance of every movie the person has acted in with its title\n",
    "df_actor_performance = (\n",
    "    df_actors.join(df_ratings, on=\"tconst\", how=\"inner\")\n",
    "\n",
    "    .select(\n",
    "        \"nconst\",\n",
    "\n",
    "        \"tconst\",\n",
    "\n",
    "        \"averageRating\",\n",
    "        \"numVotes\",\n",
    "    )\n",
    ")\n",
    "df_actor_performance.head(25)"
   ]
  },
  {
   "cell_type": "code",
   "execution_count": 21,
   "metadata": {},
   "outputs": [
    {
     "data": {
      "text/html": [
       "<div><style>\n",
       ".dataframe > thead > tr,\n",
       ".dataframe > tbody > tr {\n",
       "  text-align: right;\n",
       "  white-space: pre-wrap;\n",
       "}\n",
       "</style>\n",
       "<small>shape: (25, 4)</small><table border=\"1\" class=\"dataframe\"><thead><tr><th>nconst</th><th>tconst</th><th>averageRating</th><th>numVotes</th></tr><tr><td>str</td><td>str</td><td>f64</td><td>i64</td></tr></thead><tbody><tr><td>&quot;nm0005690&quot;</td><td>&quot;tt0000001&quot;</td><td>5.7</td><td>2024</td></tr><tr><td>&quot;nm0721526&quot;</td><td>&quot;tt0000002&quot;</td><td>5.7</td><td>272</td></tr><tr><td>&quot;nm0721526&quot;</td><td>&quot;tt0000003&quot;</td><td>6.5</td><td>1962</td></tr><tr><td>&quot;nm0721526&quot;</td><td>&quot;tt0000004&quot;</td><td>5.4</td><td>178</td></tr><tr><td>&quot;nm0005690&quot;</td><td>&quot;tt0000005&quot;</td><td>6.2</td><td>2727</td></tr><tr><td>&quot;nm0005690&quot;</td><td>&quot;tt0000006&quot;</td><td>5.0</td><td>184</td></tr><tr><td>&quot;nm0005690&quot;</td><td>&quot;tt0000007&quot;</td><td>5.4</td><td>847</td></tr><tr><td>&quot;nm0374658&quot;</td><td>&quot;tt0000007&quot;</td><td>5.4</td><td>847</td></tr><tr><td>&quot;nm0005690&quot;</td><td>&quot;tt0000008&quot;</td><td>5.4</td><td>2172</td></tr><tr><td>&quot;nm0085156&quot;</td><td>&quot;tt0000009&quot;</td><td>5.3</td><td>209</td></tr><tr><td>&quot;nm0525910&quot;</td><td>&quot;tt0000010&quot;</td><td>6.8</td><td>7450</td></tr><tr><td>&quot;nm0804434&quot;</td><td>&quot;tt0000011&quot;</td><td>5.2</td><td>382</td></tr><tr><td>&quot;nm0525910&quot;</td><td>&quot;tt0000012&quot;</td><td>7.4</td><td>12711</td></tr><tr><td>&quot;nm0525908&quot;</td><td>&quot;tt0000012&quot;</td><td>7.4</td><td>12711</td></tr><tr><td>&quot;nm0525910&quot;</td><td>&quot;tt0000013&quot;</td><td>5.7</td><td>1936</td></tr><tr><td>&quot;nm0525910&quot;</td><td>&quot;tt0000014&quot;</td><td>7.1</td><td>5757</td></tr><tr><td>&quot;nm0721526&quot;</td><td>&quot;tt0000015&quot;</td><td>6.1</td><td>1142</td></tr><tr><td>&quot;nm0525910&quot;</td><td>&quot;tt0000016&quot;</td><td>5.9</td><td>1553</td></tr><tr><td>&quot;nm1587194&quot;</td><td>&quot;tt0000017&quot;</td><td>4.6</td><td>339</td></tr><tr><td>&quot;nm0804434&quot;</td><td>&quot;tt0000017&quot;</td><td>4.6</td><td>339</td></tr><tr><td>&quot;nm0804434&quot;</td><td>&quot;tt0000018&quot;</td><td>5.2</td><td>618</td></tr><tr><td>&quot;nm0932055&quot;</td><td>&quot;tt0000019&quot;</td><td>5.1</td><td>32</td></tr><tr><td>&quot;nm0010291&quot;</td><td>&quot;tt0000020&quot;</td><td>4.8</td><td>372</td></tr><tr><td>&quot;nm0525910&quot;</td><td>&quot;tt0000022&quot;</td><td>5.1</td><td>1127</td></tr><tr><td>&quot;nm0525910&quot;</td><td>&quot;tt0000023&quot;</td><td>5.7</td><td>1478</td></tr></tbody></table></div>"
      ],
      "text/plain": [
       "shape: (25, 4)\n",
       "┌───────────┬───────────┬───────────────┬──────────┐\n",
       "│ nconst    ┆ tconst    ┆ averageRating ┆ numVotes │\n",
       "│ ---       ┆ ---       ┆ ---           ┆ ---      │\n",
       "│ str       ┆ str       ┆ f64           ┆ i64      │\n",
       "╞═══════════╪═══════════╪═══════════════╪══════════╡\n",
       "│ nm0005690 ┆ tt0000001 ┆ 5.7           ┆ 2024     │\n",
       "│ nm0721526 ┆ tt0000002 ┆ 5.7           ┆ 272      │\n",
       "│ nm0721526 ┆ tt0000003 ┆ 6.5           ┆ 1962     │\n",
       "│ nm0721526 ┆ tt0000004 ┆ 5.4           ┆ 178      │\n",
       "│ nm0005690 ┆ tt0000005 ┆ 6.2           ┆ 2727     │\n",
       "│ …         ┆ …         ┆ …             ┆ …        │\n",
       "│ nm0804434 ┆ tt0000018 ┆ 5.2           ┆ 618      │\n",
       "│ nm0932055 ┆ tt0000019 ┆ 5.1           ┆ 32       │\n",
       "│ nm0010291 ┆ tt0000020 ┆ 4.8           ┆ 372      │\n",
       "│ nm0525910 ┆ tt0000022 ┆ 5.1           ┆ 1127     │\n",
       "│ nm0525910 ┆ tt0000023 ┆ 5.7           ┆ 1478     │\n",
       "└───────────┴───────────┴───────────────┴──────────┘"
      ]
     },
     "execution_count": 21,
     "metadata": {},
     "output_type": "execute_result"
    }
   ],
   "source": [
    "# calculate the performance of every movie the person has directed\n",
    "df_director_performance = (\n",
    "    df_directors.join(df_ratings, on=\"tconst\", how=\"inner\")\n",
    "    .select(\n",
    "        \"nconst\",\n",
    "        \"tconst\",\n",
    "        \"averageRating\",\n",
    "        \"numVotes\",\n",
    "    )\n",
    ")\n",
    "df_director_performance.head(25)"
   ]
  },
  {
   "cell_type": "code",
   "execution_count": 22,
   "metadata": {},
   "outputs": [
    {
     "data": {
      "text/html": [
       "<div><style>\n",
       ".dataframe > thead > tr,\n",
       ".dataframe > tbody > tr {\n",
       "  text-align: right;\n",
       "  white-space: pre-wrap;\n",
       "}\n",
       "</style>\n",
       "<small>shape: (25, 4)</small><table border=\"1\" class=\"dataframe\"><thead><tr><th>nconst</th><th>tconst</th><th>averageRating</th><th>numVotes</th></tr><tr><td>str</td><td>str</td><td>f64</td><td>i64</td></tr></thead><tbody><tr><td>&quot;nm0085156&quot;</td><td>&quot;tt0000009&quot;</td><td>5.3</td><td>209</td></tr><tr><td>&quot;nm0410331&quot;</td><td>&quot;tt0000036&quot;</td><td>4.4</td><td>620</td></tr><tr><td>&quot;nm0410331&quot;</td><td>&quot;tt0000076&quot;</td><td>4.5</td><td>550</td></tr><tr><td>&quot;nm0617588&quot;</td><td>&quot;tt0000091&quot;</td><td>6.7</td><td>3910</td></tr><tr><td>&quot;nm0410331&quot;</td><td>&quot;tt0000108&quot;</td><td>4.4</td><td>558</td></tr><tr><td>&quot;nm0410331&quot;</td><td>&quot;tt0000109&quot;</td><td>4.5</td><td>539</td></tr><tr><td>&quot;nm0410331&quot;</td><td>&quot;tt0000110&quot;</td><td>4.4</td><td>545</td></tr><tr><td>&quot;nm0410331&quot;</td><td>&quot;tt0000111&quot;</td><td>4.4</td><td>561</td></tr><tr><td>&quot;nm0410331&quot;</td><td>&quot;tt0000112&quot;</td><td>4.5</td><td>538</td></tr><tr><td>&quot;nm0410331&quot;</td><td>&quot;tt0000113&quot;</td><td>4.3</td><td>566</td></tr><tr><td>&quot;nm0617588&quot;</td><td>&quot;tt0000132&quot;</td><td>5.1</td><td>1116</td></tr><tr><td>&quot;nm0617588&quot;</td><td>&quot;tt0000138&quot;</td><td>6.4</td><td>1196</td></tr><tr><td>&quot;nm0005717&quot;</td><td>&quot;tt0000165&quot;</td><td>4.6</td><td>138</td></tr><tr><td>&quot;nm0841389&quot;</td><td>&quot;tt0000174&quot;</td><td>4.6</td><td>134</td></tr><tr><td>&quot;nm0674518&quot;</td><td>&quot;tt0000181&quot;</td><td>6.6</td><td>61</td></tr><tr><td>&quot;nm0241416&quot;</td><td>&quot;tt0000183&quot;</td><td>5.9</td><td>36</td></tr><tr><td>&quot;nm0841389&quot;</td><td>&quot;tt0000190&quot;</td><td>4.8</td><td>149</td></tr><tr><td>&quot;nm0238900&quot;</td><td>&quot;tt0000192&quot;</td><td>4.5</td><td>189</td></tr><tr><td>&quot;nm0324473&quot;</td><td>&quot;tt0000196&quot;</td><td>4.7</td><td>30</td></tr><tr><td>&quot;nm0617588&quot;</td><td>&quot;tt0000211&quot;</td><td>7.4</td><td>4647</td></tr><tr><td>&quot;nm0841389&quot;</td><td>&quot;tt0000215&quot;</td><td>4.1</td><td>131</td></tr><tr><td>&quot;nm0617588&quot;</td><td>&quot;tt0000218&quot;</td><td>5.9</td><td>695</td></tr><tr><td>&quot;nm0207305&quot;</td><td>&quot;tt0000225&quot;</td><td>4.9</td><td>37</td></tr><tr><td>&quot;nm0857203&quot;</td><td>&quot;tt0000229&quot;</td><td>4.5</td><td>115</td></tr><tr><td>&quot;nm0674518&quot;</td><td>&quot;tt0000230&quot;</td><td>6.5</td><td>1778</td></tr></tbody></table></div>"
      ],
      "text/plain": [
       "shape: (25, 4)\n",
       "┌───────────┬───────────┬───────────────┬──────────┐\n",
       "│ nconst    ┆ tconst    ┆ averageRating ┆ numVotes │\n",
       "│ ---       ┆ ---       ┆ ---           ┆ ---      │\n",
       "│ str       ┆ str       ┆ f64           ┆ i64      │\n",
       "╞═══════════╪═══════════╪═══════════════╪══════════╡\n",
       "│ nm0085156 ┆ tt0000009 ┆ 5.3           ┆ 209      │\n",
       "│ nm0410331 ┆ tt0000036 ┆ 4.4           ┆ 620      │\n",
       "│ nm0410331 ┆ tt0000076 ┆ 4.5           ┆ 550      │\n",
       "│ nm0617588 ┆ tt0000091 ┆ 6.7           ┆ 3910     │\n",
       "│ nm0410331 ┆ tt0000108 ┆ 4.4           ┆ 558      │\n",
       "│ …         ┆ …         ┆ …             ┆ …        │\n",
       "│ nm0841389 ┆ tt0000215 ┆ 4.1           ┆ 131      │\n",
       "│ nm0617588 ┆ tt0000218 ┆ 5.9           ┆ 695      │\n",
       "│ nm0207305 ┆ tt0000225 ┆ 4.9           ┆ 37       │\n",
       "│ nm0857203 ┆ tt0000229 ┆ 4.5           ┆ 115      │\n",
       "│ nm0674518 ┆ tt0000230 ┆ 6.5           ┆ 1778     │\n",
       "└───────────┴───────────┴───────────────┴──────────┘"
      ]
     },
     "execution_count": 22,
     "metadata": {},
     "output_type": "execute_result"
    }
   ],
   "source": [
    "# calculate the performance of every movie the person has written\n",
    "df_writer_performance = (\n",
    "    df_writers.join(df_ratings, on=\"tconst\", how=\"inner\")\n",
    "    .select(\n",
    "        \"nconst\",\n",
    "        \"tconst\",\n",
    "        \"averageRating\",\n",
    "        \"numVotes\",\n",
    "    )\n",
    ")\n",
    "df_writer_performance.head(25)"
   ]
  },
  {
   "cell_type": "code",
   "execution_count": 26,
   "metadata": {},
   "outputs": [
    {
     "data": {
      "text/html": [
       "<div><style>\n",
       ".dataframe > thead > tr,\n",
       ".dataframe > tbody > tr {\n",
       "  text-align: right;\n",
       "  white-space: pre-wrap;\n",
       "}\n",
       "</style>\n",
       "<small>shape: (25, 10)</small><table border=\"1\" class=\"dataframe\"><thead><tr><th>tconst</th><th>nconst</th><th>director</th><th>writer</th><th>actor</th><th>primaryTitle</th><th>averageRating</th><th>numVotes</th><th>startYear</th><th>endYear</th></tr><tr><td>str</td><td>str</td><td>i32</td><td>i32</td><td>i32</td><td>str</td><td>f64</td><td>i64</td><td>i64</td><td>i32</td></tr></thead><tbody><tr><td>&quot;tt0004558&quot;</td><td>&quot;nm0531759&quot;</td><td>1</td><td>0</td><td>0</td><td>&quot;Samson&quot;</td><td>5.7</td><td>30</td><td>1914</td><td>null</td></tr><tr><td>&quot;tt0004207&quot;</td><td>&quot;nm0531759&quot;</td><td>1</td><td>0</td><td>1</td><td>&quot;The Last Egypt…</td><td>5.2</td><td>25</td><td>1914</td><td>null</td></tr><tr><td>&quot;tt0004457&quot;</td><td>&quot;nm0531759&quot;</td><td>1</td><td>0</td><td>0</td><td>&quot;The Patchwork …</td><td>5.5</td><td>559</td><td>1914</td><td>null</td></tr><tr><td>&quot;tt0004099&quot;</td><td>&quot;nm0531759&quot;</td><td>1</td><td>0</td><td>0</td><td>&quot;His Majesty, t…</td><td>5.4</td><td>518</td><td>1914</td><td>null</td></tr><tr><td>&quot;tt0004286&quot;</td><td>&quot;nm0531759&quot;</td><td>1</td><td>0</td><td>0</td><td>&quot;The Magic Cloa…</td><td>5.2</td><td>342</td><td>1914</td><td>null</td></tr><tr><td>&quot;tt0008401&quot;</td><td>&quot;nm0531759&quot;</td><td>1</td><td>0</td><td>0</td><td>&quot;Over the Fence…</td><td>5.7</td><td>257</td><td>1917</td><td>null</td></tr><tr><td>&quot;tt0017841&quot;</td><td>&quot;nm0531759&quot;</td><td>0</td><td>0</td><td>1</td><td>&quot;East Side, Wes…</td><td>7.1</td><td>165</td><td>1927</td><td>null</td></tr><tr><td>&quot;tt0023357&quot;</td><td>&quot;nm0531759&quot;</td><td>0</td><td>0</td><td>1</td><td>&quot;Probation&quot;</td><td>5.4</td><td>89</td><td>1932</td><td>null</td></tr><tr><td>&quot;tt0028915&quot;</td><td>&quot;nm0531759&quot;</td><td>0</td><td>0</td><td>1</td><td>&quot;The Game That …</td><td>5.9</td><td>137</td><td>1937</td><td>null</td></tr><tr><td>&quot;tt0032922&quot;</td><td>&quot;nm0531759&quot;</td><td>0</td><td>0</td><td>1</td><td>&quot;Pony Express D…</td><td>5.9</td><td>207</td><td>1940</td><td>null</td></tr><tr><td>&quot;tt0035152&quot;</td><td>&quot;nm0531759&quot;</td><td>0</td><td>0</td><td>1</td><td>&quot;One Thrilling …</td><td>5.6</td><td>178</td><td>1942</td><td>null</td></tr><tr><td>&quot;tt0005945&quot;</td><td>&quot;nm0531759&quot;</td><td>0</td><td>0</td><td>1</td><td>&quot;Rags&quot;</td><td>6.9</td><td>68</td><td>1915</td><td>null</td></tr><tr><td>&quot;tt0020921&quot;</td><td>&quot;nm0531759&quot;</td><td>0</td><td>0</td><td>1</td><td>&quot;The Girl of th…</td><td>6.1</td><td>31</td><td>1930</td><td>null</td></tr><tr><td>&quot;tt0016642&quot;</td><td>&quot;nm0531759&quot;</td><td>0</td><td>0</td><td>1</td><td>&quot;Bertha, the Se…</td><td>7.0</td><td>19</td><td>1926</td><td>null</td></tr><tr><td>&quot;tt0024869&quot;</td><td>&quot;nm0531759&quot;</td><td>0</td><td>0</td><td>1</td><td>&quot;Beggar&#x27;s Holid…</td><td>5.6</td><td>16</td><td>1934</td><td>null</td></tr><tr><td>&quot;tt0022821&quot;</td><td>&quot;nm0531759&quot;</td><td>0</td><td>0</td><td>1</td><td>&quot;Discarded Love…</td><td>4.7</td><td>132</td><td>1932</td><td>null</td></tr><tr><td>&quot;tt0010729&quot;</td><td>&quot;nm0531759&quot;</td><td>0</td><td>0</td><td>1</td><td>&quot;A Sporting Cha…</td><td>6.6</td><td>29</td><td>1919</td><td>null</td></tr><tr><td>&quot;tt0032690&quot;</td><td>&quot;nm0531759&quot;</td><td>0</td><td>0</td><td>1</td><td>&quot;The Last Alarm…</td><td>5.6</td><td>226</td><td>1940</td><td>null</td></tr><tr><td>&quot;tt0027036&quot;</td><td>&quot;nm0531759&quot;</td><td>0</td><td>0</td><td>1</td><td>&quot;Square Shooter…</td><td>6.2</td><td>59</td><td>1935</td><td>null</td></tr><tr><td>&quot;tt0023333&quot;</td><td>&quot;nm0531759&quot;</td><td>0</td><td>0</td><td>1</td><td>&quot;The Phantom Ex…</td><td>5.3</td><td>229</td><td>1932</td><td>null</td></tr><tr><td>&quot;tt0021140&quot;</td><td>&quot;nm0531759&quot;</td><td>0</td><td>0</td><td>1</td><td>&quot;Men Without Wo…</td><td>6.0</td><td>396</td><td>1930</td><td>null</td></tr><tr><td>&quot;tt0023366&quot;</td><td>&quot;nm0531759&quot;</td><td>0</td><td>0</td><td>1</td><td>&quot;The Racing Str…</td><td>4.1</td><td>39</td><td>1932</td><td>null</td></tr><tr><td>&quot;tt0026259&quot;</td><td>&quot;nm0531759&quot;</td><td>0</td><td>0</td><td>1</td><td>&quot;Danger Ahead&quot;</td><td>5.5</td><td>117</td><td>1935</td><td>null</td></tr><tr><td>&quot;tt0022984&quot;</td><td>&quot;nm0531759&quot;</td><td>0</td><td>0</td><td>1</td><td>&quot;Hearts of Huma…</td><td>5.7</td><td>66</td><td>1932</td><td>null</td></tr><tr><td>&quot;tt0024185&quot;</td><td>&quot;nm0531759&quot;</td><td>0</td><td>0</td><td>1</td><td>&quot;The Iron Maste…</td><td>5.0</td><td>25</td><td>1933</td><td>null</td></tr></tbody></table></div>"
      ],
      "text/plain": [
       "shape: (25, 10)\n",
       "┌───────────┬───────────┬──────────┬────────┬───┬───────────────┬──────────┬───────────┬─────────┐\n",
       "│ tconst    ┆ nconst    ┆ director ┆ writer ┆ … ┆ averageRating ┆ numVotes ┆ startYear ┆ endYear │\n",
       "│ ---       ┆ ---       ┆ ---      ┆ ---    ┆   ┆ ---           ┆ ---      ┆ ---       ┆ ---     │\n",
       "│ str       ┆ str       ┆ i32      ┆ i32    ┆   ┆ f64           ┆ i64      ┆ i64       ┆ i32     │\n",
       "╞═══════════╪═══════════╪══════════╪════════╪═══╪═══════════════╪══════════╪═══════════╪═════════╡\n",
       "│ tt0004558 ┆ nm0531759 ┆ 1        ┆ 0      ┆ … ┆ 5.7           ┆ 30       ┆ 1914      ┆ null    │\n",
       "│ tt0004207 ┆ nm0531759 ┆ 1        ┆ 0      ┆ … ┆ 5.2           ┆ 25       ┆ 1914      ┆ null    │\n",
       "│ tt0004457 ┆ nm0531759 ┆ 1        ┆ 0      ┆ … ┆ 5.5           ┆ 559      ┆ 1914      ┆ null    │\n",
       "│ tt0004099 ┆ nm0531759 ┆ 1        ┆ 0      ┆ … ┆ 5.4           ┆ 518      ┆ 1914      ┆ null    │\n",
       "│ tt0004286 ┆ nm0531759 ┆ 1        ┆ 0      ┆ … ┆ 5.2           ┆ 342      ┆ 1914      ┆ null    │\n",
       "│ …         ┆ …         ┆ …        ┆ …      ┆ … ┆ …             ┆ …        ┆ …         ┆ …       │\n",
       "│ tt0021140 ┆ nm0531759 ┆ 0        ┆ 0      ┆ … ┆ 6.0           ┆ 396      ┆ 1930      ┆ null    │\n",
       "│ tt0023366 ┆ nm0531759 ┆ 0        ┆ 0      ┆ … ┆ 4.1           ┆ 39       ┆ 1932      ┆ null    │\n",
       "│ tt0026259 ┆ nm0531759 ┆ 0        ┆ 0      ┆ … ┆ 5.5           ┆ 117      ┆ 1935      ┆ null    │\n",
       "│ tt0022984 ┆ nm0531759 ┆ 0        ┆ 0      ┆ … ┆ 5.7           ┆ 66       ┆ 1932      ┆ null    │\n",
       "│ tt0024185 ┆ nm0531759 ┆ 0        ┆ 0      ┆ … ┆ 5.0           ┆ 25       ┆ 1933      ┆ null    │\n",
       "└───────────┴───────────┴──────────┴────────┴───┴───────────────┴──────────┴───────────┴─────────┘"
      ]
     },
     "execution_count": 26,
     "metadata": {},
     "output_type": "execute_result"
    }
   ],
   "source": [
    "person_name = \"nm0085156\"\n",
    "\n",
    "# create a dataframe for if they have directed, written or acted in the movie\n",
    "# by making the attribute 1 if they have and 0 if they have not\n",
    "\n",
    "# join the three dataframes\n",
    "df_director_writer_actor = (\n",
    "    df_directors.with_columns(pl.lit(1).alias(\"director\"))\n",
    "    .join(\n",
    "        df_writers.with_columns(pl.lit(1).alias(\"writer\")),\n",
    "        on=(\"tconst\", \"nconst\"),\n",
    "        how=\"outer_coalesce\",\n",
    "    )\n",
    "    .join(\n",
    "        df_actors.with_columns(pl.lit(1).alias(\"actor\")),\n",
    "        on=(\"tconst\", \"nconst\"),\n",
    "        how=\"outer_coalesce\",\n",
    "    )\n",
    "    .fill_null(0)\n",
    ")\n",
    "\n",
    "# join the performance and some metadata of the movies and the person\n",
    "df_director_writer_actor = (\n",
    "    df_director_writer_actor.join(df_titles, on=\"tconst\", how=\"inner\")\n",
    "    .join(df_names, on=\"nconst\", how=\"inner\")\n",
    "    .join(df_ratings, on=\"tconst\", how=\"inner\")\n",
    "    .join(df_rating_known_for, on=\"nconst\", how=\"inner\")\n",
    "    .select(\n",
    "        \"tconst\",\n",
    "        \"nconst\",\n",
    "        \"director\",\n",
    "        \"writer\",\n",
    "        \"actor\",\n",
    "        \"primaryTitle\",\n",
    "        \"averageRating\",\n",
    "        \"numVotes\",\n",
    "        \"knownAverageRating\",\n",
    "        \"knownNumVotes\",\n",
    "    )\n",
    ")\n",
    "df_director_writer_actor.head(25)"
   ]
  },
  {
   "cell_type": "code",
   "execution_count": 27,
   "metadata": {},
   "outputs": [
    {
     "data": {
      "text/html": [
       "<div><style>\n",
       ".dataframe > thead > tr,\n",
       ".dataframe > tbody > tr {\n",
       "  text-align: right;\n",
       "  white-space: pre-wrap;\n",
       "}\n",
       "</style>\n",
       "<small>shape: (1, 10)</small><table border=\"1\" class=\"dataframe\"><thead><tr><th>tconst</th><th>nconst</th><th>director</th><th>writer</th><th>actor</th><th>primaryTitle</th><th>averageRating</th><th>numVotes</th><th>startYear</th><th>endYear</th></tr><tr><td>str</td><td>str</td><td>i32</td><td>i32</td><td>i32</td><td>str</td><td>f64</td><td>i64</td><td>i64</td><td>i32</td></tr></thead><tbody><tr><td>&quot;tt0000009&quot;</td><td>&quot;nm0085156&quot;</td><td>1</td><td>1</td><td>0</td><td>&quot;Miss Jerry&quot;</td><td>5.3</td><td>209</td><td>1894</td><td>null</td></tr></tbody></table></div>"
      ],
      "text/plain": [
       "shape: (1, 10)\n",
       "┌───────────┬───────────┬──────────┬────────┬───┬───────────────┬──────────┬───────────┬─────────┐\n",
       "│ tconst    ┆ nconst    ┆ director ┆ writer ┆ … ┆ averageRating ┆ numVotes ┆ startYear ┆ endYear │\n",
       "│ ---       ┆ ---       ┆ ---      ┆ ---    ┆   ┆ ---           ┆ ---      ┆ ---       ┆ ---     │\n",
       "│ str       ┆ str       ┆ i32      ┆ i32    ┆   ┆ f64           ┆ i64      ┆ i64       ┆ i32     │\n",
       "╞═══════════╪═══════════╪══════════╪════════╪═══╪═══════════════╪══════════╪═══════════╪═════════╡\n",
       "│ tt0000009 ┆ nm0085156 ┆ 1        ┆ 1      ┆ … ┆ 5.3           ┆ 209      ┆ 1894      ┆ null    │\n",
       "└───────────┴───────────┴──────────┴────────┴───┴───────────────┴──────────┴───────────┴─────────┘"
      ]
     },
     "execution_count": 27,
     "metadata": {},
     "output_type": "execute_result"
    }
   ],
   "source": [
    "df_director_writer_actor.filter(pl.col(\"nconst\") == person_name)"
   ]
  },
  {
   "cell_type": "code",
   "execution_count": null,
   "metadata": {},
   "outputs": [],
   "source": []
  }
 ],
 "metadata": {
  "kernelspec": {
   "display_name": ".venv",
   "language": "python",
   "name": "python3"
  },
  "language_info": {
   "codemirror_mode": {
    "name": "ipython",
    "version": 3
   },
   "file_extension": ".py",
   "mimetype": "text/x-python",
   "name": "python",
   "nbconvert_exporter": "python",
   "pygments_lexer": "ipython3",
   "version": "3.11.2"
  }
 },
 "nbformat": 4,
 "nbformat_minor": 2
}
